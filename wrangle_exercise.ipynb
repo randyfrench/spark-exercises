{
 "cells": [
  {
   "cell_type": "markdown",
   "metadata": {},
   "source": [
    "# Wrangle Exercises"
   ]
  },
  {
   "cell_type": "code",
   "execution_count": 1,
   "metadata": {
    "execution": {
     "iopub.execute_input": "2021-11-09T14:23:11.017214Z",
     "iopub.status.busy": "2021-11-09T14:23:11.016197Z",
     "iopub.status.idle": "2021-11-09T14:23:12.973030Z",
     "shell.execute_reply": "2021-11-09T14:23:12.973328Z"
    }
   },
   "outputs": [],
   "source": [
    "import pyspark\n",
    "from pyspark.sql.functions import *\n",
    "\n",
    "spark = pyspark.sql.SparkSession.builder.getOrCreate()"
   ]
  },
  {
   "cell_type": "markdown",
   "metadata": {},
   "source": [
    "## Data Prep"
   ]
  },
  {
   "cell_type": "code",
   "execution_count": 2,
   "metadata": {
    "execution": {
     "iopub.execute_input": "2021-11-09T14:23:12.977189Z",
     "iopub.status.busy": "2021-11-09T14:23:12.976712Z",
     "iopub.status.idle": "2021-11-09T14:23:17.300188Z",
     "shell.execute_reply": "2021-11-09T14:23:17.300523Z"
    }
   },
   "outputs": [
    {
     "name": "stdout",
     "output_type": "stream",
     "text": [
      "nrows: 841704\n",
      "stray animal cases: 26760\n"
     ]
    }
   ],
   "source": [
    "df = case = spark.read.csv('case.csv', header=True, inferSchema=True)\n",
    "print('nrows:', df.count())\n",
    "stray_animal_cases = df.filter(df.service_request_type == 'Stray Animal').count()\n",
    "print('stray animal cases:', stray_animal_cases)"
   ]
  },
  {
   "cell_type": "code",
   "execution_count": 3,
   "metadata": {
    "execution": {
     "iopub.execute_input": "2021-11-09T14:23:17.307249Z",
     "iopub.status.busy": "2021-11-09T14:23:17.306795Z",
     "iopub.status.idle": "2021-11-09T14:23:17.642225Z",
     "shell.execute_reply": "2021-11-09T14:23:17.642488Z"
    }
   },
   "outputs": [],
   "source": [
    "# Rename column\n",
    "df = df.withColumnRenamed('SLA_due_date', 'case_due_date')\n",
    "\n",
    "# Convert to better data types\n",
    "df = (\n",
    "    df.withColumn('case_late', col('case_late') == 'YES')\n",
    "    .withColumn('case_closed', col('case_closed') == 'YES')\n",
    ")\n",
    "df = df.withColumn('council_district', format_string('%04d', col('council_district')))\n",
    "df = (\n",
    "    df.withColumn('case_opened_date', to_timestamp(col('case_opened_date'), 'M/d/yy H:mm'))\n",
    "    .withColumn('case_closed_date', to_timestamp(col('case_closed_date'), 'M/d/yy H:mm'))\n",
    "    .withColumn('case_due_date', to_timestamp(col('case_due_date'), 'M/d/yy H:mm'))\n",
    ")\n",
    "\n",
    "# Cleanup text data\n",
    "df = df.withColumn('request_address', lower(trim(col('request_address'))))\n",
    "# Extract zipcode\n",
    "df = df.withColumn('zipcode', regexp_extract(col('request_address'), r'\\d+$', 0))\n",
    "\n",
    "# Create a `case_lifetime` feature\n",
    "df = (\n",
    "    df.withColumn('case_age', datediff(current_timestamp(), 'case_opened_date'))\n",
    "    .withColumn('days_to_closed', datediff('case_closed_date', 'case_opened_date'))\n",
    "    .withColumn('case_lifetime', when(col('case_closed'), col('days_to_closed')).otherwise(col('case_age')))\n",
    "    .drop('case_age', 'days_to_closed')\n",
    ")\n",
    "\n",
    "# Join departments and sources\n",
    "depts = spark.read.csv('dept.csv', header=True, inferSchema=True)\n",
    "sources = spark.read.csv('source.csv', header=True, inferSchema=True)\n",
    "\n",
    "df = df.join(depts, 'dept_division', 'left').join(sources, 'source_id', 'left')\n",
    "\n",
    "# # Train Test Split\n",
    "# train, test = df.randomSplit([.8, .2], seed=123)\n",
    "# train, validate, test = df.randomSplit([.7, .15, .15], seed=123)"
   ]
  },
  {
   "cell_type": "code",
   "execution_count": 4,
   "metadata": {
    "execution": {
     "iopub.execute_input": "2021-11-09T14:23:17.645182Z",
     "iopub.status.busy": "2021-11-09T14:23:17.644771Z",
     "iopub.status.idle": "2021-11-09T14:23:18.375563Z",
     "shell.execute_reply": "2021-11-09T14:23:18.375835Z"
    }
   },
   "outputs": [
    {
     "data": {
      "text/plain": [
       "855269"
      ]
     },
     "execution_count": 4,
     "metadata": {},
     "output_type": "execute_result"
    }
   ],
   "source": [
    "df.count()"
   ]
  },
  {
   "cell_type": "markdown",
   "metadata": {},
   "source": [
    "In case we want to query our dataframe with Spark SQL:"
   ]
  },
  {
   "cell_type": "code",
   "execution_count": 5,
   "metadata": {
    "execution": {
     "iopub.execute_input": "2021-11-09T14:23:18.378307Z",
     "iopub.status.busy": "2021-11-09T14:23:18.377910Z",
     "iopub.status.idle": "2021-11-09T14:23:18.400075Z",
     "shell.execute_reply": "2021-11-09T14:23:18.400343Z"
    }
   },
   "outputs": [],
   "source": [
    "df.createOrReplaceTempView('df')"
   ]
  },
  {
   "cell_type": "markdown",
   "metadata": {},
   "source": [
    "## Initial Exploration Questions"
   ]
  },
  {
   "cell_type": "code",
   "execution_count": 6,
   "metadata": {
    "execution": {
     "iopub.execute_input": "2021-11-09T14:23:18.403326Z",
     "iopub.status.busy": "2021-11-09T14:23:18.402800Z",
     "iopub.status.idle": "2021-11-09T14:23:18.942369Z",
     "shell.execute_reply": "2021-11-09T14:23:18.942693Z"
    }
   },
   "outputs": [
    {
     "name": "stdout",
     "output_type": "stream",
     "text": [
      "+-------------+\n",
      "|days_past_due|\n",
      "+-------------+\n",
      "|         1757|\n",
      "|         1757|\n",
      "|         1757|\n",
      "|         1756|\n",
      "|         1754|\n",
      "|         1750|\n",
      "|         1750|\n",
      "|         1749|\n",
      "|         1748|\n",
      "|         1748|\n",
      "|         1744|\n",
      "|         1743|\n",
      "|         1743|\n",
      "|         1743|\n",
      "|         1740|\n",
      "+-------------+\n",
      "\n"
     ]
    }
   ],
   "source": [
    "# How old is the latest (in terms of days past SLA) currently open issue?\n",
    "# How long has the oldest (in terms of days since opened) currently opened issue been open?\n",
    "spark.sql('''\n",
    "SELECT DATEDIFF(current_timestamp, case_due_date) AS days_past_due\n",
    "FROM df\n",
    "WHERE NOT case_closed\n",
    "ORDER BY days_past_due DESC\n",
    "LIMIT 15\n",
    "''').show()"
   ]
  },
  {
   "cell_type": "code",
   "execution_count": 7,
   "metadata": {
    "execution": {
     "iopub.execute_input": "2021-11-09T14:23:18.945839Z",
     "iopub.status.busy": "2021-11-09T14:23:18.945300Z",
     "iopub.status.idle": "2021-11-09T14:23:19.442904Z",
     "shell.execute_reply": "2021-11-09T14:23:19.443240Z"
    }
   },
   "outputs": [
    {
     "name": "stdout",
     "output_type": "stream",
     "text": [
      "+-------------+\n",
      "|days_past_due|\n",
      "+-------------+\n",
      "|         1757|\n",
      "|         1757|\n",
      "|         1757|\n",
      "|         1756|\n",
      "|         1754|\n",
      "+-------------+\n",
      "only showing top 5 rows\n",
      "\n"
     ]
    }
   ],
   "source": [
    "# Another way to do it:\n",
    "(\n",
    "    df.select(datediff(current_timestamp(), 'case_due_date')\n",
    "    .alias('days_past_due'))\n",
    "    .where(df.case_closed == False)\n",
    "    .sort(col('days_past_due').desc())\n",
    "    .show(5)\n",
    ")"
   ]
  },
  {
   "cell_type": "code",
   "execution_count": 8,
   "metadata": {
    "execution": {
     "iopub.execute_input": "2021-11-09T14:23:19.445827Z",
     "iopub.status.busy": "2021-11-09T14:23:19.445413Z",
     "iopub.status.idle": "2021-11-09T14:23:19.812457Z",
     "shell.execute_reply": "2021-11-09T14:23:19.812854Z"
    }
   },
   "outputs": [
    {
     "data": {
      "text/plain": [
       "27361"
      ]
     },
     "execution_count": 8,
     "metadata": {},
     "output_type": "execute_result"
    }
   ],
   "source": [
    "# How many Stray Animal cases are there?\n",
    "df.filter(df.service_request_type == 'Stray Animal').count()"
   ]
  },
  {
   "cell_type": "code",
   "execution_count": 9,
   "metadata": {
    "execution": {
     "iopub.execute_input": "2021-11-09T14:23:19.815638Z",
     "iopub.status.busy": "2021-11-09T14:23:19.815170Z",
     "iopub.status.idle": "2021-11-09T14:23:20.285464Z",
     "shell.execute_reply": "2021-11-09T14:23:20.285803Z"
    }
   },
   "outputs": [
    {
     "name": "stdout",
     "output_type": "stream",
     "text": [
      "+--------------------+-----+\n",
      "|service_request_type|count|\n",
      "+--------------------+-----+\n",
      "|        Stray Animal|27361|\n",
      "+--------------------+-----+\n",
      "\n"
     ]
    }
   ],
   "source": [
    "(\n",
    "    df.groupBy('service_request_type')\n",
    "    .count()\n",
    "    .filter(expr('service_request_type == \"Stray Animal\"'))\n",
    "    .show()\n",
    ")"
   ]
  },
  {
   "cell_type": "code",
   "execution_count": 10,
   "metadata": {
    "execution": {
     "iopub.execute_input": "2021-11-09T14:23:20.288688Z",
     "iopub.status.busy": "2021-11-09T14:23:20.288273Z",
     "iopub.status.idle": "2021-11-09T14:23:20.638811Z",
     "shell.execute_reply": "2021-11-09T14:23:20.639143Z"
    }
   },
   "outputs": [
    {
     "data": {
      "text/plain": [
       "116295"
      ]
     },
     "execution_count": 10,
     "metadata": {},
     "output_type": "execute_result"
    }
   ],
   "source": [
    "# How many service requests that are assigned to the Field Operations department (dept_division)\n",
    "# are not classified as \"Officer Standby\" request type (service_request_type)?\n",
    "(\n",
    "    df.filter(df.dept_division == 'Field Operations')\n",
    "    .filter(df.service_request_type != 'Officer Standby')\n",
    "    .count()\n",
    ")"
   ]
  },
  {
   "cell_type": "code",
   "execution_count": 11,
   "metadata": {
    "execution": {
     "iopub.execute_input": "2021-11-09T14:23:20.641963Z",
     "iopub.status.busy": "2021-11-09T14:23:20.641414Z",
     "iopub.status.idle": "2021-11-09T14:23:20.972736Z",
     "shell.execute_reply": "2021-11-09T14:23:20.973061Z"
    }
   },
   "outputs": [
    {
     "data": {
      "text/plain": [
       "116295"
      ]
     },
     "execution_count": 11,
     "metadata": {},
     "output_type": "execute_result"
    }
   ],
   "source": [
    "# Another way to do it\n",
    "(\n",
    "    df.filter(expr(\"dept_division == 'Field Operations'\"))\n",
    "    .filter(expr('service_request_type != \"Officer Standby\"'))\n",
    "    .count()\n",
    ")"
   ]
  },
  {
   "cell_type": "code",
   "execution_count": 12,
   "metadata": {
    "execution": {
     "iopub.execute_input": "2021-11-09T14:23:20.975352Z",
     "iopub.status.busy": "2021-11-09T14:23:20.974979Z",
     "iopub.status.idle": "2021-11-09T14:23:20.976209Z",
     "shell.execute_reply": "2021-11-09T14:23:20.976507Z"
    }
   },
   "outputs": [],
   "source": [
    "# Convert the council_district column to a string column.\n",
    "\n",
    "# Already done in the data prep"
   ]
  },
  {
   "cell_type": "code",
   "execution_count": 13,
   "metadata": {
    "execution": {
     "iopub.execute_input": "2021-11-09T14:23:20.978896Z",
     "iopub.status.busy": "2021-11-09T14:23:20.978405Z",
     "iopub.status.idle": "2021-11-09T14:23:21.077268Z",
     "shell.execute_reply": "2021-11-09T14:23:21.077550Z"
    }
   },
   "outputs": [
    {
     "name": "stdout",
     "output_type": "stream",
     "text": [
      "+-------------------+----------------------+\n",
      "|   case_closed_date|year(case_closed_date)|\n",
      "+-------------------+----------------------+\n",
      "|2018-01-01 12:29:00|                  2018|\n",
      "|2018-01-03 08:11:00|                  2018|\n",
      "|2018-01-02 07:57:00|                  2018|\n",
      "|2018-01-02 08:13:00|                  2018|\n",
      "|2018-01-01 13:29:00|                  2018|\n",
      "+-------------------+----------------------+\n",
      "only showing top 5 rows\n",
      "\n"
     ]
    }
   ],
   "source": [
    "# Extract the year from the case_closed_date column.\n",
    "df.select('case_closed_date', year('case_closed_date')).show(5)"
   ]
  },
  {
   "cell_type": "code",
   "execution_count": 14,
   "metadata": {
    "execution": {
     "iopub.execute_input": "2021-11-09T14:23:21.081947Z",
     "iopub.status.busy": "2021-11-09T14:23:21.080953Z",
     "iopub.status.idle": "2021-11-09T14:23:21.214610Z",
     "shell.execute_reply": "2021-11-09T14:23:21.214886Z"
    }
   },
   "outputs": [
    {
     "name": "stdout",
     "output_type": "stream",
     "text": [
      "+-------------------+-------------------+\n",
      "|      num_days_late|     num_hours_late|\n",
      "+-------------------+-------------------+\n",
      "| -998.5087616000001|     -23964.2102784|\n",
      "|-2.0126041669999997|-48.302500007999996|\n",
      "|       -3.022337963|      -72.536111112|\n",
      "|       -15.01148148|      -360.27555552|\n",
      "|0.37216435200000003|  8.931944448000001|\n",
      "|       -29.74398148| -713.8555555199999|\n",
      "|       -14.70673611|      -352.96166664|\n",
      "|       -14.70662037|      -352.95888888|\n",
      "|       -14.70662037|      -352.95888888|\n",
      "|       -14.70649306|      -352.95583344|\n",
      "|       -14.70649306|      -352.95583344|\n",
      "|       -14.70636574|      -352.95277776|\n",
      "|          -14.70625|-352.95000000000005|\n",
      "|       -14.70636574|      -352.95277776|\n",
      "|       -14.70623843|-352.94972232000003|\n",
      "|-14.705891199999998|-352.94138879999997|\n",
      "|       -14.70600694|      -352.94416656|\n",
      "|       -14.70576389|      -352.93833336|\n",
      "|       -14.70576389|      -352.93833336|\n",
      "|       -14.70564815|       -352.9355556|\n",
      "+-------------------+-------------------+\n",
      "only showing top 20 rows\n",
      "\n"
     ]
    }
   ],
   "source": [
    "# Convert num_days_late from days to hours in new columns num_hours_late.\n",
    "(\n",
    "    df.withColumn('num_hours_late', df.num_days_late * 24)\n",
    "    .select('num_days_late', 'num_hours_late')\n",
    "    .show()\n",
    ")"
   ]
  },
  {
   "cell_type": "code",
   "execution_count": 15,
   "metadata": {
    "execution": {
     "iopub.execute_input": "2021-11-09T14:23:21.221891Z",
     "iopub.status.busy": "2021-11-09T14:23:21.221211Z",
     "iopub.status.idle": "2021-11-09T14:23:21.222870Z",
     "shell.execute_reply": "2021-11-09T14:23:21.223219Z"
    }
   },
   "outputs": [],
   "source": [
    "# Join the case data with the source and department data.\n",
    "\n",
    "# already joined in the data prep"
   ]
  },
  {
   "cell_type": "code",
   "execution_count": 16,
   "metadata": {
    "execution": {
     "iopub.execute_input": "2021-11-09T14:23:21.227161Z",
     "iopub.status.busy": "2021-11-09T14:23:21.226259Z",
     "iopub.status.idle": "2021-11-09T14:23:21.247831Z",
     "shell.execute_reply": "2021-11-09T14:23:21.248163Z"
    }
   },
   "outputs": [
    {
     "name": "stdout",
     "output_type": "stream",
     "text": [
      "+---------+--------------------+\n",
      "|source_id|     source_username|\n",
      "+---------+--------------------+\n",
      "|   100137|    Merlene Blodgett|\n",
      "|   103582|         Carmen Cura|\n",
      "|   106463|     Richard Sanchez|\n",
      "|   119403|      Betty De Hoyos|\n",
      "|   119555|      Socorro Quiara|\n",
      "|   119868| Michelle San Miguel|\n",
      "|   120752|      Eva T. Kleiber|\n",
      "|   124405|           Lori Lara|\n",
      "|   132408|       Leonard Silva|\n",
      "|   135723|        Amy Cardenas|\n",
      "|   136202|    Michelle Urrutia|\n",
      "|   136979|      Leticia Garcia|\n",
      "|   137943|    Pamela K. Baccus|\n",
      "|   138605|        Marisa Ozuna|\n",
      "|   138650|      Kimberly Green|\n",
      "|   138650|Kimberly Green-Woods|\n",
      "|   138793| Guadalupe Rodriguez|\n",
      "|   138810|       Tawona Martin|\n",
      "|   139342|     Jessica Mendoza|\n",
      "|   139344|        Isis Mendoza|\n",
      "+---------+--------------------+\n",
      "only showing top 20 rows\n",
      "\n"
     ]
    }
   ],
   "source": [
    "sources.show()"
   ]
  },
  {
   "cell_type": "code",
   "execution_count": 17,
   "metadata": {
    "execution": {
     "iopub.execute_input": "2021-11-09T14:23:21.250911Z",
     "iopub.status.busy": "2021-11-09T14:23:21.250390Z",
     "iopub.status.idle": "2021-11-09T14:23:21.282068Z",
     "shell.execute_reply": "2021-11-09T14:23:21.282318Z"
    }
   },
   "outputs": [
    {
     "name": "stdout",
     "output_type": "stream",
     "text": [
      "+---------+-----------------+\n",
      "|source_id|  source_username|\n",
      "+---------+-----------------+\n",
      "|  yh24110| Yojani Hernandez|\n",
      "|  yc16753|    Yvonne Casias|\n",
      "|  vk26526|    Vincent Kosub|\n",
      "|  vb22265| Vanessa Burciaga|\n",
      "|  ts15690|  Thelma Martinez|\n",
      "|  sw26367|Samantha Wickwire|\n",
      "| svcCRMSS|         svcCRMSS|\n",
      "| svcCRMLS|         svcCRMLS|\n",
      "| svcCFlag|         CityFlag|\n",
      "|  sv24848|  Salvador Valdez|\n",
      "|  ss26317|     Sakib Shaikh|\n",
      "|  ss21394|  Shirley Sanchez|\n",
      "|  ss09159|   Sylvia Sanchez|\n",
      "|  sp26368|  Steven Peterson|\n",
      "|  sg26196|   Samantha Garza|\n",
      "|  sg22264|  Steven Martinez|\n",
      "|  ru26699|      Raul Ubides|\n",
      "|  rs16746|Ronald S. Sorrell|\n",
      "|  rb05270|       Rene Bomar|\n",
      "|  ps01944|   Paula Stallcup|\n",
      "+---------+-----------------+\n",
      "only showing top 20 rows\n",
      "\n"
     ]
    }
   ],
   "source": [
    "sources.sort(col('source_id').desc()).show()"
   ]
  },
  {
   "cell_type": "code",
   "execution_count": 18,
   "metadata": {
    "execution": {
     "iopub.execute_input": "2021-11-09T14:23:21.285263Z",
     "iopub.status.busy": "2021-11-09T14:23:21.284721Z",
     "iopub.status.idle": "2021-11-09T14:23:22.029514Z",
     "shell.execute_reply": "2021-11-09T14:23:22.029842Z"
    }
   },
   "outputs": [
    {
     "name": "stdout",
     "output_type": "stream",
     "text": [
      "-RECORD 0------------------------------------\n",
      " source_id            | af26445              \n",
      " case_id              | 1014220226           \n",
      " case_opened_date     | 2/5/18 15:07         \n",
      " case_closed_date     | 2/5/18 17:59         \n",
      " SLA_due_date         | 6/13/18 15:07        \n",
      " case_late            | NO                   \n",
      " num_days_late        | -127.88046299999999  \n",
      " case_closed          | YES                  \n",
      " dept_division        | Streets              \n",
      " service_request_type | Base/Pavement Repair \n",
      " SLA_days             | 128.0                \n",
      " case_status          | Closed               \n",
      " request_address      | BAYWATER DR and L... \n",
      " council_district     | 7                    \n",
      " source_username      | Alex Franklin        \n",
      "-RECORD 1------------------------------------\n",
      " source_id            | af26445              \n",
      " case_id              | 1014218339           \n",
      " case_opened_date     | 2/5/18 9:17          \n",
      " case_closed_date     | 2/7/18 15:57         \n",
      " SLA_due_date         | 2/19/18 9:17         \n",
      " case_late            | NO                   \n",
      " num_days_late        | -11.72241898         \n",
      " case_closed          | YES                  \n",
      " dept_division        | Storm Water          \n",
      " service_request_type | Herbicide - Grass... \n",
      " SLA_days             | 14.0                 \n",
      " case_status          | Closed               \n",
      " request_address      | KYLE SEALE PY and... \n",
      " council_district     | 8                    \n",
      " source_username      | Alex Franklin        \n",
      "-RECORD 2------------------------------------\n",
      " source_id            | af26445              \n",
      " case_id              | 1014219925           \n",
      " case_opened_date     | 2/5/18 14:16         \n",
      " case_closed_date     | 2/7/18 12:16         \n",
      " SLA_due_date         | 5/1/18 14:16         \n",
      " case_late            | NO                   \n",
      " num_days_late        | -83.08341435         \n",
      " case_closed          | YES                  \n",
      " dept_division        | Signals              \n",
      " service_request_type | Signal Timing Mod... \n",
      " SLA_days             | 85.0                 \n",
      " case_status          | Closed               \n",
      " request_address      | EWING HALSELL and... \n",
      " council_district     | 8                    \n",
      " source_username      | Alex Franklin        \n",
      "-RECORD 3------------------------------------\n",
      " source_id            | af26445              \n",
      " case_id              | 1014218299           \n",
      " case_opened_date     | 2/5/18 9:07          \n",
      " case_closed_date     | 3/19/18 16:22        \n",
      " SLA_due_date         | 3/19/18 9:07         \n",
      " case_late            | YES                  \n",
      " num_days_late        | 0.301863426          \n",
      " case_closed          | YES                  \n",
      " dept_division        | Traffic Engineeri... \n",
      " service_request_type | Speed Limit Sign     \n",
      " SLA_days             | 42.0                 \n",
      " case_status          | Closed               \n",
      " request_address      | KYLE SEALE PY and... \n",
      " council_district     | 8                    \n",
      " source_username      | Alex Franklin        \n",
      "-RECORD 4------------------------------------\n",
      " source_id            | af26445              \n",
      " case_id              | 1014220627           \n",
      " case_opened_date     | 2/5/18 16:17         \n",
      " case_closed_date     | 2/6/18 10:03         \n",
      " SLA_due_date         | 4/9/18 16:17         \n",
      " case_late            | NO                   \n",
      " num_days_late        | -62.25969907         \n",
      " case_closed          | YES                  \n",
      " dept_division        | Code Enforcement     \n",
      " service_request_type | Vacant Lot/Overgr... \n",
      " SLA_days             | 63.0                 \n",
      " case_status          | Closed               \n",
      " request_address      | 5727  FARINON DR,... \n",
      " council_district     | 8                    \n",
      " source_username      | Alex Franklin        \n",
      "only showing top 5 rows\n",
      "\n"
     ]
    }
   ],
   "source": [
    "(\n",
    "    case.join(sources, \"source_id\", \"left\")\n",
    "    .sort(col(\"source_username\"))\n",
    "    .show(5, vertical=True)\n",
    ")"
   ]
  },
  {
   "cell_type": "code",
   "execution_count": 19,
   "metadata": {
    "execution": {
     "iopub.execute_input": "2021-11-09T14:23:22.032765Z",
     "iopub.status.busy": "2021-11-09T14:23:22.032300Z",
     "iopub.status.idle": "2021-11-09T14:23:22.434070Z",
     "shell.execute_reply": "2021-11-09T14:23:22.434318Z"
    }
   },
   "outputs": [
    {
     "name": "stdout",
     "output_type": "stream",
     "text": [
      "+------------+\n",
      "|sum(is_null)|\n",
      "+------------+\n",
      "|           0|\n",
      "+------------+\n",
      "\n"
     ]
    }
   ],
   "source": [
    "# Are there any cases that do not have a request source?\n",
    "# are there any null values for source_id?\n",
    "(\n",
    "    df.select(df.source_id.isNull().cast('int').alias('is_null'))\n",
    "    .agg(sum('is_null'))\n",
    "    .show()\n",
    ")"
   ]
  },
  {
   "cell_type": "code",
   "execution_count": 20,
   "metadata": {
    "execution": {
     "iopub.execute_input": "2021-11-09T14:23:22.437090Z",
     "iopub.status.busy": "2021-11-09T14:23:22.436525Z",
     "iopub.status.idle": "2021-11-09T14:23:23.001239Z",
     "shell.execute_reply": "2021-11-09T14:23:23.001569Z"
    }
   },
   "outputs": [
    {
     "name": "stdout",
     "output_type": "stream",
     "text": [
      "(0 rows)\n",
      "\n"
     ]
    }
   ],
   "source": [
    "df.filter(col('source_id').isNull()).show(vertical=True)"
   ]
  },
  {
   "cell_type": "code",
   "execution_count": 21,
   "metadata": {
    "execution": {
     "iopub.execute_input": "2021-11-09T14:23:23.004576Z",
     "iopub.status.busy": "2021-11-09T14:23:23.004117Z",
     "iopub.status.idle": "2021-11-09T14:23:23.568086Z",
     "shell.execute_reply": "2021-11-09T14:23:23.568357Z"
    },
    "scrolled": true
   },
   "outputs": [
    {
     "name": "stdout",
     "output_type": "stream",
     "text": [
      "+--------------------------------+-----+\n",
      "|service_request_type            |count|\n",
      "+--------------------------------+-----+\n",
      "|No Pickup                       |89210|\n",
      "|Overgrown Yard/Trash            |66403|\n",
      "|Bandit Signs                    |32968|\n",
      "|Damaged Cart                    |31163|\n",
      "|Front Or Side Yard Parking      |28920|\n",
      "|Stray Animal                    |27361|\n",
      "|Aggressive Animal(Non-Critical) |25492|\n",
      "|Cart Exchange Request           |22608|\n",
      "|Junk Vehicle On Private Property|21649|\n",
      "|Pot Hole Repair                 |20827|\n",
      "+--------------------------------+-----+\n",
      "only showing top 10 rows\n",
      "\n"
     ]
    }
   ],
   "source": [
    "# What are the top 10 service request types in terms of number of requests?\n",
    "(\n",
    "    df.groupby('service_request_type')\n",
    "    .count()\n",
    "    .sort(col('count').desc())\n",
    "    .show(10, truncate=False)\n",
    ")"
   ]
  },
  {
   "cell_type": "code",
   "execution_count": 22,
   "metadata": {
    "execution": {
     "iopub.execute_input": "2021-11-09T14:23:23.571844Z",
     "iopub.status.busy": "2021-11-09T14:23:23.571403Z",
     "iopub.status.idle": "2021-11-09T14:23:24.058601Z",
     "shell.execute_reply": "2021-11-09T14:23:24.059324Z"
    }
   },
   "outputs": [
    {
     "name": "stdout",
     "output_type": "stream",
     "text": [
      "+--------------------------------------+------------------+-------+\n",
      "|service_request_type                  |n_days_late       |n_cases|\n",
      "+--------------------------------------+------------------+-------+\n",
      "|Zoning: Recycle Yard                  |210.89201994318182|132    |\n",
      "|Zoning: Junk Yards                    |200.20517608494276|262    |\n",
      "|Structure/Housing Maintenance         |190.20707698509807|51     |\n",
      "|Donation Container Enforcement        |171.09115313942615|122    |\n",
      "|Storage of Used Mattress              |163.96812829714287|7      |\n",
      "|Labeling for Used Mattress            |162.43032902285717|7      |\n",
      "|Record Keeping of Used Mattresses     |153.99724039428568|7      |\n",
      "|Signage Requied for Sale of Used Mattr|151.63868055333333|12     |\n",
      "|Traffic Signal Graffiti               |137.64583330000002|4      |\n",
      "|License Requied Used Mattress Sales   |128.79828704142858|7      |\n",
      "+--------------------------------------+------------------+-------+\n",
      "only showing top 10 rows\n",
      "\n"
     ]
    }
   ],
   "source": [
    "# What are the top 10 service request types in terms of average days late?\n",
    "# - just the late cases\n",
    "# - for the late cases:\n",
    "#   - what is the average number of days late by request type?\n",
    "(\n",
    "    df.where('case_late') # just the rows where case_late == true\n",
    "    .groupBy('service_request_type')\n",
    "    .agg(mean('num_days_late').alias('n_days_late'), count('*').alias('n_cases'))\n",
    "    .sort(desc('n_days_late'))\n",
    "    .show(10, truncate=False)\n",
    ")"
   ]
  },
  {
   "cell_type": "code",
   "execution_count": 23,
   "metadata": {
    "execution": {
     "iopub.execute_input": "2021-11-09T14:23:24.065245Z",
     "iopub.status.busy": "2021-11-09T14:23:24.064078Z",
     "iopub.status.idle": "2021-11-09T14:23:24.510639Z",
     "shell.execute_reply": "2021-11-09T14:23:24.510955Z"
    }
   },
   "outputs": [
    {
     "name": "stdout",
     "output_type": "stream",
     "text": [
      "+-------------------------+---------+------------+\n",
      "|dept_name                |days_late|n_cases_late|\n",
      "+-------------------------+---------+------------+\n",
      "|Metro Health             |6.5      |854         |\n",
      "|Solid Waste Management   |7.1      |33729       |\n",
      "|Trans & Cap Improvements |10.7     |5529        |\n",
      "|Parks and Recreation     |22.4     |3810        |\n",
      "|Animal Care Services     |23.4     |23751       |\n",
      "|Code Enforcement Services|48.1     |25467       |\n",
      "|Development Services     |67.2     |840         |\n",
      "|Customer Service         |88.2     |2035        |\n",
      "|null                     |210.9    |132         |\n",
      "+-------------------------+---------+------------+\n",
      "\n"
     ]
    }
   ],
   "source": [
    "# Does number of days late depend on department?\n",
    "(\n",
    "    df.filter('case_late')\n",
    "    .groupby('dept_name')\n",
    "    .agg(mean('num_days_late').alias('days_late'), count('num_days_late').alias('n_cases_late'))\n",
    "    .sort('days_late')\n",
    "    .withColumn('days_late', round(col('days_late'), 1))\n",
    "    .show(truncate=False)\n",
    ")"
   ]
  },
  {
   "cell_type": "code",
   "execution_count": 24,
   "metadata": {
    "execution": {
     "iopub.execute_input": "2021-11-09T14:23:24.513629Z",
     "iopub.status.busy": "2021-11-09T14:23:24.513167Z",
     "iopub.status.idle": "2021-11-09T14:23:24.988232Z",
     "shell.execute_reply": "2021-11-09T14:23:24.988500Z"
    }
   },
   "outputs": [
    {
     "name": "stdout",
     "output_type": "stream",
     "text": [
      "+-------------------------+------+\n",
      "|dept_name                |count |\n",
      "+-------------------------+------+\n",
      "|Animal Care Services     |119362|\n",
      "|Solid Waste Management   |286287|\n",
      "|Development Services     |1397  |\n",
      "|Trans & Cap Improvements |97841 |\n",
      "|Customer Service         |2889  |\n",
      "|Metro Health             |5313  |\n",
      "|Parks and Recreation     |19964 |\n",
      "|Code Enforcement Services|321984|\n",
      "|City Council             |34    |\n",
      "|null                     |198   |\n",
      "+-------------------------+------+\n",
      "\n"
     ]
    }
   ],
   "source": [
    "df.groupby('dept_name').count().show(truncate=False)"
   ]
  },
  {
   "cell_type": "code",
   "execution_count": 25,
   "metadata": {
    "execution": {
     "iopub.execute_input": "2021-11-09T14:23:24.992466Z",
     "iopub.status.busy": "2021-11-09T14:23:24.992026Z",
     "iopub.status.idle": "2021-11-09T14:23:25.677739Z",
     "shell.execute_reply": "2021-11-09T14:23:25.678074Z"
    }
   },
   "outputs": [
    {
     "name": "stdout",
     "output_type": "stream",
     "text": [
      "+------------------------+----------------------------------------+---------+-------+\n",
      "|standardized_dept_name  |service_request_type                    |days_late|n_cases|\n",
      "+------------------------+----------------------------------------+---------+-------+\n",
      "|DSD/Code Enforcement    |Zoning: Junk Yards                      |209.4    |174    |\n",
      "|DSD/Code Enforcement    |Labeling for Used Mattress              |162.4    |7      |\n",
      "|DSD/Code Enforcement    |Record Keeping of Used Mattresses       |154.0    |7      |\n",
      "|DSD/Code Enforcement    |Signage Requied for Sale of Used Mattr  |151.6    |12     |\n",
      "|DSD/Code Enforcement    |Storage of Used Mattress                |142.1    |8      |\n",
      "|DSD/Code Enforcement    |Donation Container Enforcement          |141.3    |114    |\n",
      "|DSD/Code Enforcement    |Zoning: Recycle Yard                    |139.0    |141    |\n",
      "|DSD/Code Enforcement    |License Requied Used Mattress Sales     |128.8    |7      |\n",
      "|DSD/Code Enforcement    |Vendors                                 |65.3     |184    |\n",
      "|Customer Service        |Complaint                               |59.9     |1250   |\n",
      "|Solid Waste             |Contracted Service Issues               |56.7     |12     |\n",
      "|DSD/Code Enforcement    |Curbstoning                             |55.1     |200    |\n",
      "|DSD/Code Enforcement    |No Address Posted                       |51.4     |1011   |\n",
      "|DSD/Code Enforcement    |Street Light New Development            |30.9     |27     |\n",
      "|DSD/Code Enforcement    |Used Mattress Inspection                |30.2     |49     |\n",
      "|Solid Waste             |Service Information                     |26.4     |152    |\n",
      "|Animal Care Services    |Animal Permits Request                  |22.1     |3001   |\n",
      "|Solid Waste             |Solid Waste Fees and Charges            |21.5     |4702   |\n",
      "|Animal Care Services    |Aggressive Animal(Critical)             |16.7     |5230   |\n",
      "|DSD/Code Enforcement    |Emergency: Main and Accessory Structures|16.4     |26     |\n",
      "|Parks & Recreation      |Sportfield Lighting                     |15.5     |533    |\n",
      "|DSD/Code Enforcement    |Historical Building (No Permits)        |15.0     |9      |\n",
      "|DSD/Code Enforcement    |Street Light Existing Res Sub Div       |14.9     |633    |\n",
      "|Solid Waste             |Organics Info / Literature Request      |14.7     |1162   |\n",
      "|Parks & Recreation      |Park Building Maint Invest              |13.9     |43     |\n",
      "|Trans & Cap Improvements|Speed Hump Repairs - Emergency          |10.3     |531    |\n",
      "|Solid Waste             |Cart Placement                          |10.3     |1192   |\n",
      "|Solid Waste             |Disability Service Requested            |9.1      |826    |\n",
      "|DSD/Code Enforcement    |Emergency: Accessory Structure Only     |8.8      |10     |\n",
      "|Parks & Recreation      |Electrical                              |8.2      |1145   |\n",
      "|Animal Care Services    |Animal Neglect                          |7.3      |13736  |\n",
      "|Trans & Cap Improvements|Status: On-Going CIMS Projects          |6.3      |356    |\n",
      "|Parks & Recreation      |Tree Removal                            |6.2      |289    |\n",
      "|DSD/Code Enforcement    |Emergency: Main Structure Only          |5.3      |43     |\n",
      "|Solid Waste             |Alley Problems                          |4.5      |58     |\n",
      "|Parks & Recreation      |Painting                                |4.4      |280    |\n",
      "|Parks & Recreation      |Tree Trimming/Maintenance               |4.3      |529    |\n",
      "|Parks & Recreation      |Masonry                                 |4.3      |441    |\n",
      "|Solid Waste             |Request for Commercial Service          |4.1      |332    |\n",
      "|Parks & Recreation      |Fence/Gate Repair                       |4.1      |119    |\n",
      "+------------------------+----------------------------------------+---------+-------+\n",
      "only showing top 40 rows\n",
      "\n"
     ]
    }
   ],
   "source": [
    "# How do number of days late depend on department and request type?\n",
    "(\n",
    "    df.filter(\"case_closed\")\n",
    "#     .filter(\"case_late\")\n",
    "    .groupby(\"standardized_dept_name\", \"service_request_type\")\n",
    "    .agg(avg(\"num_days_late\").alias(\"days_late\"), count(\"*\").alias(\"n_cases\"))\n",
    "    .withColumn(\"days_late\", round(col(\"days_late\"), 1))\n",
    "    .where(col('days_late') > 0)\n",
    "    .sort(desc(\"days_late\"))\n",
    "    .show(40, truncate=False)\n",
    ")"
   ]
  }
 ],
 "metadata": {
  "kernelspec": {
   "display_name": "Python 3",
   "language": "python",
   "name": "python3"
  },
  "language_info": {
   "codemirror_mode": {
    "name": "ipython",
    "version": 3
   },
   "file_extension": ".py",
   "mimetype": "text/x-python",
   "name": "python",
   "nbconvert_exporter": "python",
   "pygments_lexer": "ipython3",
   "version": "3.8.8"
  }
 },
 "nbformat": 4,
 "nbformat_minor": 4
}

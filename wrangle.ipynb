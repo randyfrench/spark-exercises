{
 "cells": [
  {
   "cell_type": "markdown",
   "id": "db11d658-776f-48c9-81d1-e99890851509",
   "metadata": {},
   "source": [
    "# Exercises\n",
    "\n",
    "Data Acquisition\n",
    "\n",
    "These exercises should go in a notebook or script named wrangle. Add, commit, and push your changes.\n",
    "\n",
    "This exercises uses the case.csv, dept.csv, and source.csv files from the san antonio 311 call dataset."
   ]
  },
  {
   "cell_type": "code",
   "execution_count": 1,
   "id": "8aa99b93-b3f6-4011-8775-52ccfdef331f",
   "metadata": {},
   "outputs": [],
   "source": [
    "from pyspark.sql import SparkSession\n",
    "from pyspark.sql.functions import *\n",
    "\n",
    "spark = SparkSession.builder.getOrCreate()"
   ]
  },
  {
   "cell_type": "markdown",
   "id": "cb8c3cef-bc7d-4077-96f5-3689c291bf4a",
   "metadata": {},
   "source": [
    "## 1. Read the case, department, and source data into their own spark dataframes."
   ]
  },
  {
   "cell_type": "code",
   "execution_count": 2,
   "id": "4425739b-69fb-4737-8463-5a4f6ffaa01d",
   "metadata": {},
   "outputs": [],
   "source": [
    "df = spark.read.csv(\"source.csv\", sep=\",\", header=True, inferSchema=True)"
   ]
  },
  {
   "cell_type": "code",
   "execution_count": 3,
   "id": "469a7a2e-7b99-47a2-8e7e-ffa475cee35f",
   "metadata": {},
   "outputs": [],
   "source": [
    "df1 = spark.read.csv(\"case.csv\", sep=\",\", header=True, inferSchema=True)"
   ]
  },
  {
   "cell_type": "code",
   "execution_count": 4,
   "id": "40067ce3-3793-4ab4-bd29-1b822fb3c7dd",
   "metadata": {},
   "outputs": [],
   "source": [
    "df2 = spark.read.csv(\"dept.csv\", sep=\",\", header=True, inferSchema=True)"
   ]
  },
  {
   "cell_type": "code",
   "execution_count": 5,
   "id": "b659a8b8-5ce1-46f1-8e57-9af1c8ee4037",
   "metadata": {},
   "outputs": [
    {
     "data": {
      "text/plain": [
       "DataFrame[source_id: string, source_username: string]"
      ]
     },
     "execution_count": 5,
     "metadata": {},
     "output_type": "execute_result"
    }
   ],
   "source": [
    "df"
   ]
  },
  {
   "cell_type": "code",
   "execution_count": 6,
   "id": "ad81f8b1-7665-46c0-b58f-0f320797a097",
   "metadata": {},
   "outputs": [
    {
     "data": {
      "text/plain": [
       "DataFrame[case_id: int, case_opened_date: string, case_closed_date: string, SLA_due_date: string, case_late: string, num_days_late: double, case_closed: string, dept_division: string, service_request_type: string, SLA_days: double, case_status: string, source_id: string, request_address: string, council_district: int]"
      ]
     },
     "execution_count": 6,
     "metadata": {},
     "output_type": "execute_result"
    }
   ],
   "source": [
    "df1"
   ]
  },
  {
   "cell_type": "code",
   "execution_count": 7,
   "id": "e9513950-3f39-45f7-bdcd-8fe8940b5953",
   "metadata": {},
   "outputs": [
    {
     "data": {
      "text/plain": [
       "DataFrame[dept_division: string, dept_name: string, standardized_dept_name: string, dept_subject_to_SLA: string]"
      ]
     },
     "execution_count": 7,
     "metadata": {},
     "output_type": "execute_result"
    }
   ],
   "source": [
    "df2"
   ]
  },
  {
   "cell_type": "markdown",
   "id": "da116e61-1994-4b64-ad04-7cf5430fb629",
   "metadata": {},
   "source": [
    "## 2. Let's see how writing to the local disk works in spark:\n",
    "\n",
    "- Write the code necessary to store the source data in both csv and json format, store these as sources_csv and sources_json\n",
    "- Inspect your folder structure. What do you notice?"
   ]
  },
  {
   "cell_type": "code",
   "execution_count": 8,
   "id": "9700c269-99a1-40cd-b0ea-749517b6d1b8",
   "metadata": {},
   "outputs": [],
   "source": [
    "df.write.json(\"sources_json\", mode=\"overwrite\")"
   ]
  },
  {
   "cell_type": "code",
   "execution_count": 9,
   "id": "0118c764-e0de-4e81-941c-72a65b9f00c1",
   "metadata": {},
   "outputs": [],
   "source": [
    "df.write.csv(\"sources_csv\", mode=\"overwrite\")"
   ]
  },
  {
   "cell_type": "markdown",
   "id": "2ff0767b-1bc3-4235-98cf-0b9c3548d0c4",
   "metadata": {},
   "source": [
    "> Inspect your folder structure. What do you notice?"
   ]
  },
  {
   "cell_type": "code",
   "execution_count": 10,
   "id": "7d424d55-5238-414b-a7a7-0fb3270420fc",
   "metadata": {},
   "outputs": [],
   "source": [
    "# the files have no extension and are named just as written \"sources_json and sources_csv\""
   ]
  },
  {
   "cell_type": "markdown",
   "id": "214191d4-b046-4259-b99c-e7e5d6d68c77",
   "metadata": {},
   "source": [
    "## 3. Inspect the data in your dataframes. Are the data types appropriate? Write the code necessary to cast the values to the appropriate types."
   ]
  },
  {
   "cell_type": "code",
   "execution_count": 11,
   "id": "418363a4-1249-4ef9-a512-f83e602c9556",
   "metadata": {},
   "outputs": [
    {
     "name": "stdout",
     "output_type": "stream",
     "text": [
      "-RECORD 0---------------------------\n",
      " source_id       | 100137           \n",
      " source_username | Merlene Blodgett \n",
      "-RECORD 1---------------------------\n",
      " source_id       | 103582           \n",
      " source_username | Carmen Cura      \n",
      "only showing top 2 rows\n",
      "\n"
     ]
    }
   ],
   "source": [
    "df.show(2, vertical=True)"
   ]
  },
  {
   "cell_type": "code",
   "execution_count": 12,
   "id": "e4fdd271-194b-49f2-8e8a-2b3783bdca1e",
   "metadata": {},
   "outputs": [
    {
     "data": {
      "text/plain": [
       "[('source_id', 'string'), ('source_username', 'string')]"
      ]
     },
     "execution_count": 12,
     "metadata": {},
     "output_type": "execute_result"
    }
   ],
   "source": [
    "df.dtypes"
   ]
  },
  {
   "cell_type": "code",
   "execution_count": 13,
   "id": "1b17439e-434c-4ad7-b0c2-b8ea09003cfe",
   "metadata": {},
   "outputs": [
    {
     "name": "stdout",
     "output_type": "stream",
     "text": [
      "-RECORD 0------------------------------------\n",
      " case_id              | 1014127332           \n",
      " case_opened_date     | 1/1/18 0:42          \n",
      " case_closed_date     | 1/1/18 12:29         \n",
      " SLA_due_date         | 9/26/20 0:42         \n",
      " case_late            | NO                   \n",
      " num_days_late        | -998.5087616000001   \n",
      " case_closed          | YES                  \n",
      " dept_division        | Field Operations     \n",
      " service_request_type | Stray Animal         \n",
      " SLA_days             | 999.0                \n",
      " case_status          | Closed               \n",
      " source_id            | svcCRMLS             \n",
      " request_address      | 2315  EL PASO ST,... \n",
      " council_district     | 5                    \n",
      "-RECORD 1------------------------------------\n",
      " case_id              | 1014127333           \n",
      " case_opened_date     | 1/1/18 0:46          \n",
      " case_closed_date     | 1/3/18 8:11          \n",
      " SLA_due_date         | 1/5/18 8:30          \n",
      " case_late            | NO                   \n",
      " num_days_late        | -2.0126041669999997  \n",
      " case_closed          | YES                  \n",
      " dept_division        | Storm Water          \n",
      " service_request_type | Removal Of Obstru... \n",
      " SLA_days             | 4.322222222          \n",
      " case_status          | Closed               \n",
      " source_id            | svcCRMSS             \n",
      " request_address      | 2215  GOLIAD RD, ... \n",
      " council_district     | 3                    \n",
      "only showing top 2 rows\n",
      "\n"
     ]
    }
   ],
   "source": [
    "df1.show(2, vertical=True)"
   ]
  },
  {
   "cell_type": "code",
   "execution_count": 14,
   "id": "9306cdc5-4efb-47a2-9435-d5993ab720ac",
   "metadata": {},
   "outputs": [
    {
     "data": {
      "text/plain": [
       "[('case_id', 'int'),\n",
       " ('case_opened_date', 'string'),\n",
       " ('case_closed_date', 'string'),\n",
       " ('SLA_due_date', 'string'),\n",
       " ('case_late', 'string'),\n",
       " ('num_days_late', 'double'),\n",
       " ('case_closed', 'string'),\n",
       " ('dept_division', 'string'),\n",
       " ('service_request_type', 'string'),\n",
       " ('SLA_days', 'double'),\n",
       " ('case_status', 'string'),\n",
       " ('source_id', 'string'),\n",
       " ('request_address', 'string'),\n",
       " ('council_district', 'int')]"
      ]
     },
     "execution_count": 14,
     "metadata": {},
     "output_type": "execute_result"
    }
   ],
   "source": [
    "df1.dtypes"
   ]
  },
  {
   "cell_type": "code",
   "execution_count": 15,
   "id": "d2f1ebf0-6424-4dd5-8682-ecf887e2abca",
   "metadata": {},
   "outputs": [
    {
     "name": "stdout",
     "output_type": "stream",
     "text": [
      "root\n",
      " |-- case_id: integer (nullable = true)\n",
      " |-- case_opened_date: string (nullable = true)\n",
      " |-- case_closed_date: string (nullable = true)\n",
      " |-- SLA_due_date: string (nullable = true)\n",
      " |-- case_late: string (nullable = true)\n",
      " |-- num_days_late: double (nullable = true)\n",
      " |-- case_closed: string (nullable = true)\n",
      " |-- dept_division: string (nullable = true)\n",
      " |-- service_request_type: string (nullable = true)\n",
      " |-- SLA_days: double (nullable = true)\n",
      " |-- case_status: string (nullable = true)\n",
      " |-- source_id: string (nullable = true)\n",
      " |-- request_address: string (nullable = true)\n",
      " |-- council_district: integer (nullable = true)\n",
      "\n"
     ]
    }
   ],
   "source": [
    "df1.printSchema()"
   ]
  },
  {
   "cell_type": "code",
   "execution_count": 16,
   "id": "f851a5cd-cdb7-42c5-a878-94307f54ab02",
   "metadata": {},
   "outputs": [
    {
     "name": "stdout",
     "output_type": "stream",
     "text": [
      "-RECORD 0--------------------------------------\n",
      " dept_division          | 311 Call Center      \n",
      " dept_name              | Customer Service     \n",
      " standardized_dept_name | Customer Service     \n",
      " dept_subject_to_SLA    | YES                  \n",
      "-RECORD 1--------------------------------------\n",
      " dept_division          | Brush                \n",
      " dept_name              | Solid Waste Manag... \n",
      " standardized_dept_name | Solid Waste          \n",
      " dept_subject_to_SLA    | YES                  \n",
      "only showing top 2 rows\n",
      "\n"
     ]
    }
   ],
   "source": [
    "df2.show(2, vertical=True)"
   ]
  },
  {
   "cell_type": "code",
   "execution_count": 17,
   "id": "e7262e65-dd95-48b4-a756-18a26f20d1a4",
   "metadata": {},
   "outputs": [
    {
     "name": "stdout",
     "output_type": "stream",
     "text": [
      "root\n",
      " |-- dept_division: string (nullable = true)\n",
      " |-- dept_name: string (nullable = true)\n",
      " |-- standardized_dept_name: string (nullable = true)\n",
      " |-- dept_subject_to_SLA: string (nullable = true)\n",
      "\n"
     ]
    }
   ],
   "source": [
    "df2.printSchema()"
   ]
  },
  {
   "cell_type": "code",
   "execution_count": 18,
   "id": "bf162eac-12e8-4e2f-b381-e7dbd53e9251",
   "metadata": {},
   "outputs": [],
   "source": [
    "df1 = df1.withColumnRenamed(\"SLA_due_date\", \"case_due_date\")"
   ]
  },
  {
   "cell_type": "code",
   "execution_count": 19,
   "id": "1045c727-ff29-46ae-863b-db5d15779968",
   "metadata": {},
   "outputs": [
    {
     "name": "stdout",
     "output_type": "stream",
     "text": [
      "+-----------+---------+------+\n",
      "|case_closed|case_late| count|\n",
      "+-----------+---------+------+\n",
      "|         NO|      YES|  6525|\n",
      "|        YES|      YES| 87978|\n",
      "|         NO|       NO| 11585|\n",
      "|        YES|       NO|735616|\n",
      "+-----------+---------+------+\n",
      "\n"
     ]
    }
   ],
   "source": [
    "df1.groupBy(\"case_closed\", \"case_late\").count().show()"
   ]
  },
  {
   "cell_type": "code",
   "execution_count": 20,
   "id": "c4bb1523-2c58-4b69-83aa-2a18b79646a9",
   "metadata": {},
   "outputs": [
    {
     "name": "stdout",
     "output_type": "stream",
     "text": [
      "+-----------+---------+\n",
      "|case_closed|case_late|\n",
      "+-----------+---------+\n",
      "|       true|    false|\n",
      "|       true|    false|\n",
      "|       true|    false|\n",
      "|       true|    false|\n",
      "|       true|     true|\n",
      "+-----------+---------+\n",
      "only showing top 5 rows\n",
      "\n"
     ]
    }
   ],
   "source": [
    "df1 = df1.withColumn(\"case_closed\", expr('case_closed == \"YES\"')).withColumn(\n",
    "    \"case_late\", expr('case_late == \"YES\"')\n",
    ")\n",
    "\n",
    "df1.select(\"case_closed\", \"case_late\").show(5)"
   ]
  },
  {
   "cell_type": "code",
   "execution_count": 21,
   "id": "1fe2bbb7-40ea-4362-8312-90c4a766bd74",
   "metadata": {},
   "outputs": [],
   "source": [
    "df1 = df1.withColumn(\"council_district\", col(\"council_district\").cast(\"string\"))"
   ]
  },
  {
   "cell_type": "code",
   "execution_count": 22,
   "id": "19abc2c5-ef20-4ce5-ba35-75246c6488f9",
   "metadata": {},
   "outputs": [
    {
     "name": "stdout",
     "output_type": "stream",
     "text": [
      "--- Before handling dates\n",
      "+----------------+----------------+-------------+\n",
      "|case_opened_date|case_closed_date|case_due_date|\n",
      "+----------------+----------------+-------------+\n",
      "|     1/1/18 0:42|    1/1/18 12:29| 9/26/20 0:42|\n",
      "|     1/1/18 0:46|     1/3/18 8:11|  1/5/18 8:30|\n",
      "|     1/1/18 0:48|     1/2/18 7:57|  1/5/18 8:30|\n",
      "|     1/1/18 1:29|     1/2/18 8:13| 1/17/18 8:30|\n",
      "|     1/1/18 1:34|    1/1/18 13:29|  1/1/18 4:34|\n",
      "+----------------+----------------+-------------+\n",
      "only showing top 5 rows\n",
      "\n"
     ]
    },
    {
     "ename": "AnalysisException",
     "evalue": "cannot resolve 'case_opened_date' given input columns: [source_id, source_username];\n'Project [source_id#16, source_username#17, to_timestamp('case_opened_date, Some(M/d/yy H:mm)) AS case_opened_date#327]\n+- Relation [source_id#16,source_username#17] csv\n",
     "output_type": "error",
     "traceback": [
      "\u001b[0;31m---------------------------------------------------------------------------\u001b[0m",
      "\u001b[0;31mAnalysisException\u001b[0m                         Traceback (most recent call last)",
      "\u001b[0;32m<ipython-input-22-24c8469deb16>\u001b[0m in \u001b[0;36m<module>\u001b[0;34m\u001b[0m\n\u001b[1;32m      4\u001b[0m \u001b[0mfmt\u001b[0m \u001b[0;34m=\u001b[0m \u001b[0;34m\"M/d/yy H:mm\"\u001b[0m\u001b[0;34m\u001b[0m\u001b[0;34m\u001b[0m\u001b[0m\n\u001b[1;32m      5\u001b[0m df1 = (\n\u001b[0;32m----> 6\u001b[0;31m     \u001b[0mdf\u001b[0m\u001b[0;34m.\u001b[0m\u001b[0mwithColumn\u001b[0m\u001b[0;34m(\u001b[0m\u001b[0;34m\"case_opened_date\"\u001b[0m\u001b[0;34m,\u001b[0m \u001b[0mto_timestamp\u001b[0m\u001b[0;34m(\u001b[0m\u001b[0;34m\"case_opened_date\"\u001b[0m\u001b[0;34m,\u001b[0m \u001b[0mfmt\u001b[0m\u001b[0;34m)\u001b[0m\u001b[0;34m)\u001b[0m\u001b[0;34m\u001b[0m\u001b[0;34m\u001b[0m\u001b[0m\n\u001b[0m\u001b[1;32m      7\u001b[0m     \u001b[0;34m.\u001b[0m\u001b[0mwithColumn\u001b[0m\u001b[0;34m(\u001b[0m\u001b[0;34m\"case_closed_date\"\u001b[0m\u001b[0;34m,\u001b[0m \u001b[0mto_timestamp\u001b[0m\u001b[0;34m(\u001b[0m\u001b[0;34m\"case_opened_date\"\u001b[0m\u001b[0;34m,\u001b[0m \u001b[0mfmt\u001b[0m\u001b[0;34m)\u001b[0m\u001b[0;34m)\u001b[0m\u001b[0;34m\u001b[0m\u001b[0;34m\u001b[0m\u001b[0m\n\u001b[1;32m      8\u001b[0m     \u001b[0;34m.\u001b[0m\u001b[0mwithColumn\u001b[0m\u001b[0;34m(\u001b[0m\u001b[0;34m\"case_due_date\"\u001b[0m\u001b[0;34m,\u001b[0m \u001b[0mto_timestamp\u001b[0m\u001b[0;34m(\u001b[0m\u001b[0;34m\"case_opened_date\"\u001b[0m\u001b[0;34m,\u001b[0m \u001b[0mfmt\u001b[0m\u001b[0;34m)\u001b[0m\u001b[0;34m)\u001b[0m\u001b[0;34m\u001b[0m\u001b[0;34m\u001b[0m\u001b[0m\n",
      "\u001b[0;32m/opt/homebrew/anaconda3/lib/python3.8/site-packages/pyspark/sql/dataframe.py\u001b[0m in \u001b[0;36mwithColumn\u001b[0;34m(self, colName, col)\u001b[0m\n\u001b[1;32m   2476\u001b[0m         \u001b[0;32mif\u001b[0m \u001b[0;32mnot\u001b[0m \u001b[0misinstance\u001b[0m\u001b[0;34m(\u001b[0m\u001b[0mcol\u001b[0m\u001b[0;34m,\u001b[0m \u001b[0mColumn\u001b[0m\u001b[0;34m)\u001b[0m\u001b[0;34m:\u001b[0m\u001b[0;34m\u001b[0m\u001b[0;34m\u001b[0m\u001b[0m\n\u001b[1;32m   2477\u001b[0m             \u001b[0;32mraise\u001b[0m \u001b[0mTypeError\u001b[0m\u001b[0;34m(\u001b[0m\u001b[0;34m\"col should be Column\"\u001b[0m\u001b[0;34m)\u001b[0m\u001b[0;34m\u001b[0m\u001b[0;34m\u001b[0m\u001b[0m\n\u001b[0;32m-> 2478\u001b[0;31m         \u001b[0;32mreturn\u001b[0m \u001b[0mDataFrame\u001b[0m\u001b[0;34m(\u001b[0m\u001b[0mself\u001b[0m\u001b[0;34m.\u001b[0m\u001b[0m_jdf\u001b[0m\u001b[0;34m.\u001b[0m\u001b[0mwithColumn\u001b[0m\u001b[0;34m(\u001b[0m\u001b[0mcolName\u001b[0m\u001b[0;34m,\u001b[0m \u001b[0mcol\u001b[0m\u001b[0;34m.\u001b[0m\u001b[0m_jc\u001b[0m\u001b[0;34m)\u001b[0m\u001b[0;34m,\u001b[0m \u001b[0mself\u001b[0m\u001b[0;34m.\u001b[0m\u001b[0msql_ctx\u001b[0m\u001b[0;34m)\u001b[0m\u001b[0;34m\u001b[0m\u001b[0;34m\u001b[0m\u001b[0m\n\u001b[0m\u001b[1;32m   2479\u001b[0m \u001b[0;34m\u001b[0m\u001b[0m\n\u001b[1;32m   2480\u001b[0m     \u001b[0;32mdef\u001b[0m \u001b[0mwithColumnRenamed\u001b[0m\u001b[0;34m(\u001b[0m\u001b[0mself\u001b[0m\u001b[0;34m,\u001b[0m \u001b[0mexisting\u001b[0m\u001b[0;34m,\u001b[0m \u001b[0mnew\u001b[0m\u001b[0;34m)\u001b[0m\u001b[0;34m:\u001b[0m\u001b[0;34m\u001b[0m\u001b[0;34m\u001b[0m\u001b[0m\n",
      "\u001b[0;32m/opt/homebrew/anaconda3/lib/python3.8/site-packages/py4j/java_gateway.py\u001b[0m in \u001b[0;36m__call__\u001b[0;34m(self, *args)\u001b[0m\n\u001b[1;32m   1307\u001b[0m \u001b[0;34m\u001b[0m\u001b[0m\n\u001b[1;32m   1308\u001b[0m         \u001b[0manswer\u001b[0m \u001b[0;34m=\u001b[0m \u001b[0mself\u001b[0m\u001b[0;34m.\u001b[0m\u001b[0mgateway_client\u001b[0m\u001b[0;34m.\u001b[0m\u001b[0msend_command\u001b[0m\u001b[0;34m(\u001b[0m\u001b[0mcommand\u001b[0m\u001b[0;34m)\u001b[0m\u001b[0;34m\u001b[0m\u001b[0;34m\u001b[0m\u001b[0m\n\u001b[0;32m-> 1309\u001b[0;31m         return_value = get_return_value(\n\u001b[0m\u001b[1;32m   1310\u001b[0m             answer, self.gateway_client, self.target_id, self.name)\n\u001b[1;32m   1311\u001b[0m \u001b[0;34m\u001b[0m\u001b[0m\n",
      "\u001b[0;32m/opt/homebrew/anaconda3/lib/python3.8/site-packages/pyspark/sql/utils.py\u001b[0m in \u001b[0;36mdeco\u001b[0;34m(*a, **kw)\u001b[0m\n\u001b[1;32m    115\u001b[0m                 \u001b[0;31m# Hide where the exception came from that shows a non-Pythonic\u001b[0m\u001b[0;34m\u001b[0m\u001b[0;34m\u001b[0m\u001b[0;34m\u001b[0m\u001b[0m\n\u001b[1;32m    116\u001b[0m                 \u001b[0;31m# JVM exception message.\u001b[0m\u001b[0;34m\u001b[0m\u001b[0;34m\u001b[0m\u001b[0;34m\u001b[0m\u001b[0m\n\u001b[0;32m--> 117\u001b[0;31m                 \u001b[0;32mraise\u001b[0m \u001b[0mconverted\u001b[0m \u001b[0;32mfrom\u001b[0m \u001b[0;32mNone\u001b[0m\u001b[0;34m\u001b[0m\u001b[0;34m\u001b[0m\u001b[0m\n\u001b[0m\u001b[1;32m    118\u001b[0m             \u001b[0;32melse\u001b[0m\u001b[0;34m:\u001b[0m\u001b[0;34m\u001b[0m\u001b[0;34m\u001b[0m\u001b[0m\n\u001b[1;32m    119\u001b[0m                 \u001b[0;32mraise\u001b[0m\u001b[0;34m\u001b[0m\u001b[0;34m\u001b[0m\u001b[0m\n",
      "\u001b[0;31mAnalysisException\u001b[0m: cannot resolve 'case_opened_date' given input columns: [source_id, source_username];\n'Project [source_id#16, source_username#17, to_timestamp('case_opened_date, Some(M/d/yy H:mm)) AS case_opened_date#327]\n+- Relation [source_id#16,source_username#17] csv\n"
     ]
    }
   ],
   "source": [
    "print(\"--- Before handling dates\")\n",
    "df1.select(\"case_opened_date\", \"case_closed_date\", \"case_due_date\").show(5)\n",
    "\n",
    "fmt = \"M/d/yy H:mm\"\n",
    "df1 = (\n",
    "    df.withColumn(\"case_opened_date\", to_timestamp(\"case_opened_date\", fmt))\n",
    "    .withColumn(\"case_closed_date\", to_timestamp(\"case_opened_date\", fmt))\n",
    "    .withColumn(\"case_due_date\", to_timestamp(\"case_opened_date\", fmt))\n",
    ")\n",
    "\n",
    "print(\"--- After\")\n",
    "df1.select(\"case_opened_date\", \"case_closed_date\", \"case_due_date\").show(5)"
   ]
  },
  {
   "cell_type": "markdown",
   "id": "ee77a4df-bb4d-45ba-8769-c153d841c93e",
   "metadata": {},
   "source": [
    "************************************\n",
    "\n",
    "## 1. How old is the latest (in terms of days past SLA) currently open issue? How long has the oldest (in terms of days since opened) currently opened issue been open?"
   ]
  },
  {
   "cell_type": "code",
   "execution_count": 23,
   "id": "ba97dcd4-9f46-4129-a3f7-f0c4b7971f3a",
   "metadata": {},
   "outputs": [
    {
     "name": "stdout",
     "output_type": "stream",
     "text": [
      "+-----------+----------------+----------------+--------+--------------+-------------+\n",
      "|case_closed|case_opened_date|case_closed_date|case_age|days_to_closed|case_lifetime|\n",
      "+-----------+----------------+----------------+--------+--------------+-------------+\n",
      "|       true|     1/1/18 0:42|    1/1/18 12:29|    null|          null|         null|\n",
      "|       true|     1/1/18 0:46|     1/3/18 8:11|    null|          null|         null|\n",
      "|       true|     1/1/18 0:48|     1/2/18 7:57|    null|          null|         null|\n",
      "|       true|     1/1/18 1:29|     1/2/18 8:13|    null|          null|         null|\n",
      "|       true|     1/1/18 1:34|    1/1/18 13:29|    null|          null|         null|\n",
      "+-----------+----------------+----------------+--------+--------------+-------------+\n",
      "only showing top 5 rows\n",
      "\n",
      "+-----------+----------------+----------------+--------+--------------+-------------+\n",
      "|case_closed|case_opened_date|case_closed_date|case_age|days_to_closed|case_lifetime|\n",
      "+-----------+----------------+----------------+--------+--------------+-------------+\n",
      "|      false|     1/2/18 9:39|            null|    null|          null|         null|\n",
      "|      false|    1/2/18 10:49|            null|    null|          null|         null|\n",
      "|      false|    1/2/18 13:45|            null|    null|          null|         null|\n",
      "|      false|    1/2/18 14:09|            null|    null|          null|         null|\n",
      "|      false|    1/2/18 14:34|            null|    null|          null|         null|\n",
      "+-----------+----------------+----------------+--------+--------------+-------------+\n",
      "only showing top 5 rows\n",
      "\n"
     ]
    }
   ],
   "source": [
    "df1 = (\n",
    "    df1.withColumn(\n",
    "        \"case_age\", datediff(current_timestamp(), \"case_opened_date\")\n",
    "    )\n",
    "    .withColumn(\n",
    "        \"days_to_closed\", datediff(\"case_closed_date\", \"case_opened_date\")\n",
    "    )\n",
    "    .withColumn(\n",
    "        \"case_lifetime\",\n",
    "        when(expr(\"! case_closed\"), col(\"case_age\")).otherwise(\n",
    "            col(\"days_to_closed\")\n",
    "        ),\n",
    "    )\n",
    ")\n",
    "\n",
    "df1.select(\n",
    "    \"case_closed\",\n",
    "    \"case_opened_date\",\n",
    "    \"case_closed_date\",\n",
    "    \"case_age\",\n",
    "    \"days_to_closed\",\n",
    "    \"case_lifetime\",\n",
    ").where(expr(\"case_closed\")).show(5)\n",
    "\n",
    "df1.select(\n",
    "    \"case_closed\",\n",
    "    \"case_opened_date\",\n",
    "    \"case_closed_date\",\n",
    "    \"case_age\",\n",
    "    \"days_to_closed\",\n",
    "    \"case_lifetime\",\n",
    ").where(expr(\"! case_closed\")).show(5)"
   ]
  },
  {
   "cell_type": "code",
   "execution_count": 24,
   "id": "ca81f5c0-f019-4261-97eb-3ddf42673414",
   "metadata": {},
   "outputs": [
    {
     "ename": "AnalysisException",
     "evalue": "Table or view not found: df; line 3 pos 5;\n'GlobalLimit 15\n+- 'LocalLimit 15\n   +- 'Sort ['days_past_due DESC NULLS LAST], true\n      +- 'Project ['DATEDIFF('current_timestamp, 'case_due_date) AS days_past_due#447]\n         +- 'Filter NOT 'case_closed\n            +- 'UnresolvedRelation [df], [], false\n",
     "output_type": "error",
     "traceback": [
      "\u001b[0;31m---------------------------------------------------------------------------\u001b[0m",
      "\u001b[0;31mAnalysisException\u001b[0m                         Traceback (most recent call last)",
      "\u001b[0;32m<ipython-input-24-bd2475af8761>\u001b[0m in \u001b[0;36m<module>\u001b[0;34m\u001b[0m\n\u001b[1;32m      1\u001b[0m \u001b[0;31m# How old is the latest (in terms of days past SLA) currently open issue?\u001b[0m\u001b[0;34m\u001b[0m\u001b[0;34m\u001b[0m\u001b[0;34m\u001b[0m\u001b[0m\n\u001b[1;32m      2\u001b[0m \u001b[0;31m# How long has the oldest (in terms of days since opened) currently opened issue been open?\u001b[0m\u001b[0;34m\u001b[0m\u001b[0;34m\u001b[0m\u001b[0;34m\u001b[0m\u001b[0m\n\u001b[0;32m----> 3\u001b[0;31m spark.sql('''\n\u001b[0m\u001b[1;32m      4\u001b[0m \u001b[0mSELECT\u001b[0m \u001b[0mDATEDIFF\u001b[0m\u001b[0;34m(\u001b[0m\u001b[0mcurrent_timestamp\u001b[0m\u001b[0;34m,\u001b[0m \u001b[0mcase_due_date\u001b[0m\u001b[0;34m)\u001b[0m \u001b[0mAS\u001b[0m \u001b[0mdays_past_due\u001b[0m\u001b[0;34m\u001b[0m\u001b[0;34m\u001b[0m\u001b[0m\n\u001b[1;32m      5\u001b[0m \u001b[0mFROM\u001b[0m \u001b[0mdf\u001b[0m\u001b[0;34m\u001b[0m\u001b[0;34m\u001b[0m\u001b[0m\n",
      "\u001b[0;32m/opt/homebrew/anaconda3/lib/python3.8/site-packages/pyspark/sql/session.py\u001b[0m in \u001b[0;36msql\u001b[0;34m(self, sqlQuery)\u001b[0m\n\u001b[1;32m    721\u001b[0m         \u001b[0;34m[\u001b[0m\u001b[0mRow\u001b[0m\u001b[0;34m(\u001b[0m\u001b[0mf1\u001b[0m\u001b[0;34m=\u001b[0m\u001b[0;36m1\u001b[0m\u001b[0;34m,\u001b[0m \u001b[0mf2\u001b[0m\u001b[0;34m=\u001b[0m\u001b[0;34m'row1'\u001b[0m\u001b[0;34m)\u001b[0m\u001b[0;34m,\u001b[0m \u001b[0mRow\u001b[0m\u001b[0;34m(\u001b[0m\u001b[0mf1\u001b[0m\u001b[0;34m=\u001b[0m\u001b[0;36m2\u001b[0m\u001b[0;34m,\u001b[0m \u001b[0mf2\u001b[0m\u001b[0;34m=\u001b[0m\u001b[0;34m'row2'\u001b[0m\u001b[0;34m)\u001b[0m\u001b[0;34m,\u001b[0m \u001b[0mRow\u001b[0m\u001b[0;34m(\u001b[0m\u001b[0mf1\u001b[0m\u001b[0;34m=\u001b[0m\u001b[0;36m3\u001b[0m\u001b[0;34m,\u001b[0m \u001b[0mf2\u001b[0m\u001b[0;34m=\u001b[0m\u001b[0;34m'row3'\u001b[0m\u001b[0;34m)\u001b[0m\u001b[0;34m]\u001b[0m\u001b[0;34m\u001b[0m\u001b[0;34m\u001b[0m\u001b[0m\n\u001b[1;32m    722\u001b[0m         \"\"\"\n\u001b[0;32m--> 723\u001b[0;31m         \u001b[0;32mreturn\u001b[0m \u001b[0mDataFrame\u001b[0m\u001b[0;34m(\u001b[0m\u001b[0mself\u001b[0m\u001b[0;34m.\u001b[0m\u001b[0m_jsparkSession\u001b[0m\u001b[0;34m.\u001b[0m\u001b[0msql\u001b[0m\u001b[0;34m(\u001b[0m\u001b[0msqlQuery\u001b[0m\u001b[0;34m)\u001b[0m\u001b[0;34m,\u001b[0m \u001b[0mself\u001b[0m\u001b[0;34m.\u001b[0m\u001b[0m_wrapped\u001b[0m\u001b[0;34m)\u001b[0m\u001b[0;34m\u001b[0m\u001b[0;34m\u001b[0m\u001b[0m\n\u001b[0m\u001b[1;32m    724\u001b[0m \u001b[0;34m\u001b[0m\u001b[0m\n\u001b[1;32m    725\u001b[0m     \u001b[0;32mdef\u001b[0m \u001b[0mtable\u001b[0m\u001b[0;34m(\u001b[0m\u001b[0mself\u001b[0m\u001b[0;34m,\u001b[0m \u001b[0mtableName\u001b[0m\u001b[0;34m)\u001b[0m\u001b[0;34m:\u001b[0m\u001b[0;34m\u001b[0m\u001b[0;34m\u001b[0m\u001b[0m\n",
      "\u001b[0;32m/opt/homebrew/anaconda3/lib/python3.8/site-packages/py4j/java_gateway.py\u001b[0m in \u001b[0;36m__call__\u001b[0;34m(self, *args)\u001b[0m\n\u001b[1;32m   1307\u001b[0m \u001b[0;34m\u001b[0m\u001b[0m\n\u001b[1;32m   1308\u001b[0m         \u001b[0manswer\u001b[0m \u001b[0;34m=\u001b[0m \u001b[0mself\u001b[0m\u001b[0;34m.\u001b[0m\u001b[0mgateway_client\u001b[0m\u001b[0;34m.\u001b[0m\u001b[0msend_command\u001b[0m\u001b[0;34m(\u001b[0m\u001b[0mcommand\u001b[0m\u001b[0;34m)\u001b[0m\u001b[0;34m\u001b[0m\u001b[0;34m\u001b[0m\u001b[0m\n\u001b[0;32m-> 1309\u001b[0;31m         return_value = get_return_value(\n\u001b[0m\u001b[1;32m   1310\u001b[0m             answer, self.gateway_client, self.target_id, self.name)\n\u001b[1;32m   1311\u001b[0m \u001b[0;34m\u001b[0m\u001b[0m\n",
      "\u001b[0;32m/opt/homebrew/anaconda3/lib/python3.8/site-packages/pyspark/sql/utils.py\u001b[0m in \u001b[0;36mdeco\u001b[0;34m(*a, **kw)\u001b[0m\n\u001b[1;32m    115\u001b[0m                 \u001b[0;31m# Hide where the exception came from that shows a non-Pythonic\u001b[0m\u001b[0;34m\u001b[0m\u001b[0;34m\u001b[0m\u001b[0;34m\u001b[0m\u001b[0m\n\u001b[1;32m    116\u001b[0m                 \u001b[0;31m# JVM exception message.\u001b[0m\u001b[0;34m\u001b[0m\u001b[0;34m\u001b[0m\u001b[0;34m\u001b[0m\u001b[0m\n\u001b[0;32m--> 117\u001b[0;31m                 \u001b[0;32mraise\u001b[0m \u001b[0mconverted\u001b[0m \u001b[0;32mfrom\u001b[0m \u001b[0;32mNone\u001b[0m\u001b[0;34m\u001b[0m\u001b[0;34m\u001b[0m\u001b[0m\n\u001b[0m\u001b[1;32m    118\u001b[0m             \u001b[0;32melse\u001b[0m\u001b[0;34m:\u001b[0m\u001b[0;34m\u001b[0m\u001b[0;34m\u001b[0m\u001b[0m\n\u001b[1;32m    119\u001b[0m                 \u001b[0;32mraise\u001b[0m\u001b[0;34m\u001b[0m\u001b[0;34m\u001b[0m\u001b[0m\n",
      "\u001b[0;31mAnalysisException\u001b[0m: Table or view not found: df; line 3 pos 5;\n'GlobalLimit 15\n+- 'LocalLimit 15\n   +- 'Sort ['days_past_due DESC NULLS LAST], true\n      +- 'Project ['DATEDIFF('current_timestamp, 'case_due_date) AS days_past_due#447]\n         +- 'Filter NOT 'case_closed\n            +- 'UnresolvedRelation [df], [], false\n"
     ]
    }
   ],
   "source": [
    "# How old is the latest (in terms of days past SLA) currently open issue?\n",
    "# How long has the oldest (in terms of days since opened) currently opened issue been open?\n",
    "spark.sql('''\n",
    "SELECT DATEDIFF(current_timestamp, case_due_date) AS days_past_due\n",
    "FROM df\n",
    "WHERE NOT case_closed\n",
    "ORDER BY days_past_due DESC\n",
    "LIMIT 15\n",
    "''').show()"
   ]
  },
  {
   "cell_type": "code",
   "execution_count": 25,
   "id": "0b4f868b-8af8-42d2-a1f1-66423713bf5f",
   "metadata": {},
   "outputs": [
    {
     "ename": "AnalysisException",
     "evalue": "cannot resolve 'case_due_date' given input columns: [source_id, source_username];\n'Project [datediff(current_timestamp(), 'case_due_date) AS days_past_due#448]\n+- Relation [source_id#16,source_username#17] csv\n",
     "output_type": "error",
     "traceback": [
      "\u001b[0;31m---------------------------------------------------------------------------\u001b[0m",
      "\u001b[0;31mAnalysisException\u001b[0m                         Traceback (most recent call last)",
      "\u001b[0;32m<ipython-input-25-bdc80593a354>\u001b[0m in \u001b[0;36m<module>\u001b[0;34m\u001b[0m\n\u001b[1;32m      1\u001b[0m \u001b[0;31m# Another way to do it:\u001b[0m\u001b[0;34m\u001b[0m\u001b[0;34m\u001b[0m\u001b[0;34m\u001b[0m\u001b[0m\n\u001b[1;32m      2\u001b[0m (\n\u001b[0;32m----> 3\u001b[0;31m     df.select(datediff(current_timestamp(), 'case_due_date')\n\u001b[0m\u001b[1;32m      4\u001b[0m     .alias('days_past_due'))\n\u001b[1;32m      5\u001b[0m     \u001b[0;34m.\u001b[0m\u001b[0mwhere\u001b[0m\u001b[0;34m(\u001b[0m\u001b[0mdf\u001b[0m\u001b[0;34m.\u001b[0m\u001b[0mcase_closed\u001b[0m \u001b[0;34m==\u001b[0m \u001b[0;32mFalse\u001b[0m\u001b[0;34m)\u001b[0m\u001b[0;34m\u001b[0m\u001b[0;34m\u001b[0m\u001b[0m\n",
      "\u001b[0;32m/opt/homebrew/anaconda3/lib/python3.8/site-packages/pyspark/sql/dataframe.py\u001b[0m in \u001b[0;36mselect\u001b[0;34m(self, *cols)\u001b[0m\n\u001b[1;32m   1683\u001b[0m         \u001b[0;34m[\u001b[0m\u001b[0mRow\u001b[0m\u001b[0;34m(\u001b[0m\u001b[0mname\u001b[0m\u001b[0;34m=\u001b[0m\u001b[0;34m'Alice'\u001b[0m\u001b[0;34m,\u001b[0m \u001b[0mage\u001b[0m\u001b[0;34m=\u001b[0m\u001b[0;36m12\u001b[0m\u001b[0;34m)\u001b[0m\u001b[0;34m,\u001b[0m \u001b[0mRow\u001b[0m\u001b[0;34m(\u001b[0m\u001b[0mname\u001b[0m\u001b[0;34m=\u001b[0m\u001b[0;34m'Bob'\u001b[0m\u001b[0;34m,\u001b[0m \u001b[0mage\u001b[0m\u001b[0;34m=\u001b[0m\u001b[0;36m15\u001b[0m\u001b[0;34m)\u001b[0m\u001b[0;34m]\u001b[0m\u001b[0;34m\u001b[0m\u001b[0;34m\u001b[0m\u001b[0m\n\u001b[1;32m   1684\u001b[0m         \"\"\"\n\u001b[0;32m-> 1685\u001b[0;31m         \u001b[0mjdf\u001b[0m \u001b[0;34m=\u001b[0m \u001b[0mself\u001b[0m\u001b[0;34m.\u001b[0m\u001b[0m_jdf\u001b[0m\u001b[0;34m.\u001b[0m\u001b[0mselect\u001b[0m\u001b[0;34m(\u001b[0m\u001b[0mself\u001b[0m\u001b[0;34m.\u001b[0m\u001b[0m_jcols\u001b[0m\u001b[0;34m(\u001b[0m\u001b[0;34m*\u001b[0m\u001b[0mcols\u001b[0m\u001b[0;34m)\u001b[0m\u001b[0;34m)\u001b[0m\u001b[0;34m\u001b[0m\u001b[0;34m\u001b[0m\u001b[0m\n\u001b[0m\u001b[1;32m   1686\u001b[0m         \u001b[0;32mreturn\u001b[0m \u001b[0mDataFrame\u001b[0m\u001b[0;34m(\u001b[0m\u001b[0mjdf\u001b[0m\u001b[0;34m,\u001b[0m \u001b[0mself\u001b[0m\u001b[0;34m.\u001b[0m\u001b[0msql_ctx\u001b[0m\u001b[0;34m)\u001b[0m\u001b[0;34m\u001b[0m\u001b[0;34m\u001b[0m\u001b[0m\n\u001b[1;32m   1687\u001b[0m \u001b[0;34m\u001b[0m\u001b[0m\n",
      "\u001b[0;32m/opt/homebrew/anaconda3/lib/python3.8/site-packages/py4j/java_gateway.py\u001b[0m in \u001b[0;36m__call__\u001b[0;34m(self, *args)\u001b[0m\n\u001b[1;32m   1307\u001b[0m \u001b[0;34m\u001b[0m\u001b[0m\n\u001b[1;32m   1308\u001b[0m         \u001b[0manswer\u001b[0m \u001b[0;34m=\u001b[0m \u001b[0mself\u001b[0m\u001b[0;34m.\u001b[0m\u001b[0mgateway_client\u001b[0m\u001b[0;34m.\u001b[0m\u001b[0msend_command\u001b[0m\u001b[0;34m(\u001b[0m\u001b[0mcommand\u001b[0m\u001b[0;34m)\u001b[0m\u001b[0;34m\u001b[0m\u001b[0;34m\u001b[0m\u001b[0m\n\u001b[0;32m-> 1309\u001b[0;31m         return_value = get_return_value(\n\u001b[0m\u001b[1;32m   1310\u001b[0m             answer, self.gateway_client, self.target_id, self.name)\n\u001b[1;32m   1311\u001b[0m \u001b[0;34m\u001b[0m\u001b[0m\n",
      "\u001b[0;32m/opt/homebrew/anaconda3/lib/python3.8/site-packages/pyspark/sql/utils.py\u001b[0m in \u001b[0;36mdeco\u001b[0;34m(*a, **kw)\u001b[0m\n\u001b[1;32m    115\u001b[0m                 \u001b[0;31m# Hide where the exception came from that shows a non-Pythonic\u001b[0m\u001b[0;34m\u001b[0m\u001b[0;34m\u001b[0m\u001b[0;34m\u001b[0m\u001b[0m\n\u001b[1;32m    116\u001b[0m                 \u001b[0;31m# JVM exception message.\u001b[0m\u001b[0;34m\u001b[0m\u001b[0;34m\u001b[0m\u001b[0;34m\u001b[0m\u001b[0m\n\u001b[0;32m--> 117\u001b[0;31m                 \u001b[0;32mraise\u001b[0m \u001b[0mconverted\u001b[0m \u001b[0;32mfrom\u001b[0m \u001b[0;32mNone\u001b[0m\u001b[0;34m\u001b[0m\u001b[0;34m\u001b[0m\u001b[0m\n\u001b[0m\u001b[1;32m    118\u001b[0m             \u001b[0;32melse\u001b[0m\u001b[0;34m:\u001b[0m\u001b[0;34m\u001b[0m\u001b[0;34m\u001b[0m\u001b[0m\n\u001b[1;32m    119\u001b[0m                 \u001b[0;32mraise\u001b[0m\u001b[0;34m\u001b[0m\u001b[0;34m\u001b[0m\u001b[0m\n",
      "\u001b[0;31mAnalysisException\u001b[0m: cannot resolve 'case_due_date' given input columns: [source_id, source_username];\n'Project [datediff(current_timestamp(), 'case_due_date) AS days_past_due#448]\n+- Relation [source_id#16,source_username#17] csv\n"
     ]
    }
   ],
   "source": [
    "# Another way to do it:\n",
    "(\n",
    "    df.select(datediff(current_timestamp(), 'case_due_date')\n",
    "    .alias('days_past_due'))\n",
    "    .where(df.case_closed == False)\n",
    "    .sort(col('days_past_due').desc())\n",
    "    .show(5)\n",
    ")"
   ]
  },
  {
   "cell_type": "markdown",
   "id": "fd1a362f-1bf3-456d-aa7e-dcd164f9f6cf",
   "metadata": {},
   "source": [
    "### 2. How many Stray Animal cases are there?"
   ]
  },
  {
   "cell_type": "code",
   "execution_count": 26,
   "id": "24affda2-0461-4f64-85a1-92addd203503",
   "metadata": {},
   "outputs": [
    {
     "data": {
      "text/plain": [
       "26760"
      ]
     },
     "execution_count": 26,
     "metadata": {},
     "output_type": "execute_result"
    }
   ],
   "source": [
    "df1.filter(df1.service_request_type == 'Stray Animal').count()"
   ]
  },
  {
   "cell_type": "code",
   "execution_count": 27,
   "id": "a72903cd-c674-45c0-8d73-517387ef40ce",
   "metadata": {},
   "outputs": [
    {
     "name": "stdout",
     "output_type": "stream",
     "text": [
      "+--------------------+-----+\n",
      "|service_request_type|count|\n",
      "+--------------------+-----+\n",
      "|        Stray Animal|26760|\n",
      "+--------------------+-----+\n",
      "\n"
     ]
    }
   ],
   "source": [
    "(\n",
    "    df1.groupBy('service_request_type')\n",
    "    .count()\n",
    "    .filter(expr('service_request_type == \"Stray Animal\"'))\n",
    "    .show()\n",
    ")"
   ]
  },
  {
   "cell_type": "markdown",
   "id": "79775acd-55b0-4e66-8055-7955cc27f1d3",
   "metadata": {},
   "source": [
    "### 3. How many service requests that are assigned to the Field Operations department (dept_division) are not classified as \"Officer Standby\" request type (service_request_type)?"
   ]
  },
  {
   "cell_type": "code",
   "execution_count": 28,
   "id": "28dcba8c-819f-4595-8e53-865f9a46898d",
   "metadata": {},
   "outputs": [
    {
     "data": {
      "text/plain": [
       "113902"
      ]
     },
     "execution_count": 28,
     "metadata": {},
     "output_type": "execute_result"
    }
   ],
   "source": [
    "(\n",
    "    df1.filter(df1.dept_division == 'Field Operations')\n",
    "    .filter(df1.service_request_type != 'Officer Standby')\n",
    "    .count()\n",
    ")"
   ]
  },
  {
   "cell_type": "code",
   "execution_count": 29,
   "id": "75d2cbde-3784-4d3b-9d66-2b1ce174727b",
   "metadata": {},
   "outputs": [
    {
     "data": {
      "text/plain": [
       "113902"
      ]
     },
     "execution_count": 29,
     "metadata": {},
     "output_type": "execute_result"
    }
   ],
   "source": [
    "# Another way to do it\n",
    "(\n",
    "    df1.filter(expr(\"dept_division == 'Field Operations'\"))\n",
    "    .filter(expr('service_request_type != \"Officer Standby\"'))\n",
    "    .count()\n",
    ")"
   ]
  },
  {
   "cell_type": "markdown",
   "id": "9372428c-bf6b-4e6c-8579-3b58b459abe9",
   "metadata": {},
   "source": [
    "### 4. Convert the council_district column to a string column."
   ]
  },
  {
   "cell_type": "code",
   "execution_count": 30,
   "id": "e870dad2-b08a-42d9-a6f0-0d461483eb9d",
   "metadata": {},
   "outputs": [],
   "source": [
    "# Already done in the data prep"
   ]
  },
  {
   "cell_type": "markdown",
   "id": "82552c0a-c341-426f-8bba-07d53bd19bfe",
   "metadata": {},
   "source": [
    "### 5. Extract the year from the case_closed_date column."
   ]
  },
  {
   "cell_type": "code",
   "execution_count": 31,
   "id": "cbd777c9-76f0-4b05-b2d0-476ea6752ba3",
   "metadata": {},
   "outputs": [
    {
     "name": "stdout",
     "output_type": "stream",
     "text": [
      "+----------------+----------------------+\n",
      "|case_closed_date|year(case_closed_date)|\n",
      "+----------------+----------------------+\n",
      "|    1/1/18 12:29|                  null|\n",
      "|     1/3/18 8:11|                  null|\n",
      "|     1/2/18 7:57|                  null|\n",
      "|     1/2/18 8:13|                  null|\n",
      "|    1/1/18 13:29|                  null|\n",
      "+----------------+----------------------+\n",
      "only showing top 5 rows\n",
      "\n"
     ]
    }
   ],
   "source": [
    "df1.select('case_closed_date', year('case_closed_date')).show(5)"
   ]
  },
  {
   "cell_type": "markdown",
   "id": "0d561218-7464-4676-89e9-7a5dfcc2e3ce",
   "metadata": {},
   "source": [
    "### 6. Convert num_days_late from days to hours in new columns num_hours_late."
   ]
  },
  {
   "cell_type": "code",
   "execution_count": 32,
   "id": "f600779d-e694-4aa3-8463-f815cb793a1a",
   "metadata": {},
   "outputs": [
    {
     "name": "stdout",
     "output_type": "stream",
     "text": [
      "+-------------------+-------------------+\n",
      "|      num_days_late|     num_hours_late|\n",
      "+-------------------+-------------------+\n",
      "| -998.5087616000001|     -23964.2102784|\n",
      "|-2.0126041669999997|-48.302500007999996|\n",
      "|       -3.022337963|      -72.536111112|\n",
      "|       -15.01148148|      -360.27555552|\n",
      "|0.37216435200000003|  8.931944448000001|\n",
      "|       -29.74398148| -713.8555555199999|\n",
      "|       -14.70673611|      -352.96166664|\n",
      "|       -14.70662037|      -352.95888888|\n",
      "|       -14.70662037|      -352.95888888|\n",
      "|       -14.70649306|      -352.95583344|\n",
      "|       -14.70649306|      -352.95583344|\n",
      "|       -14.70636574|      -352.95277776|\n",
      "|          -14.70625|-352.95000000000005|\n",
      "|       -14.70636574|      -352.95277776|\n",
      "|       -14.70623843|-352.94972232000003|\n",
      "|-14.705891199999998|-352.94138879999997|\n",
      "|       -14.70600694|      -352.94416656|\n",
      "|       -14.70576389|      -352.93833336|\n",
      "|       -14.70576389|      -352.93833336|\n",
      "|       -14.70564815|       -352.9355556|\n",
      "+-------------------+-------------------+\n",
      "only showing top 20 rows\n",
      "\n"
     ]
    }
   ],
   "source": [
    "(\n",
    "    df1.withColumn('num_hours_late', df1.num_days_late * 24)\n",
    "    .select('num_days_late', 'num_hours_late')\n",
    "    .show()\n",
    ")"
   ]
  },
  {
   "cell_type": "markdown",
   "id": "2f687a33-10dd-4be6-9afa-6ee719921b28",
   "metadata": {},
   "source": [
    "### 7. Join the case data with the source and department data."
   ]
  },
  {
   "cell_type": "code",
   "execution_count": 33,
   "id": "ce46cda8-3bbd-4620-918b-8d877f546adc",
   "metadata": {},
   "outputs": [
    {
     "name": "stdout",
     "output_type": "stream",
     "text": [
      "-RECORD 0------------------------------------\n",
      " case_id              | 1014127332           \n",
      " case_opened_date     | 1/1/18 0:42          \n",
      " case_closed_date     | 1/1/18 12:29         \n",
      " case_due_date        | 9/26/20 0:42         \n",
      " case_late            | false                \n",
      " num_days_late        | -998.5087616000001   \n",
      " case_closed          | true                 \n",
      " service_request_type | Stray Animal         \n",
      " SLA_days             | 999.0                \n",
      " case_status          | Closed               \n",
      " source_id            | svcCRMLS             \n",
      " request_address      | 2315  EL PASO ST,... \n",
      " council_district     | 5                    \n",
      " case_age             | null                 \n",
      " days_to_closed       | null                 \n",
      " case_lifetime        | null                 \n",
      " department           | Animal Care Services \n",
      " dept_subject_to_SLA  | true                 \n",
      "-RECORD 1------------------------------------\n",
      " case_id              | 1014127333           \n",
      " case_opened_date     | 1/1/18 0:46          \n",
      " case_closed_date     | 1/3/18 8:11          \n",
      " case_due_date        | 1/5/18 8:30          \n",
      " case_late            | false                \n",
      " num_days_late        | -2.0126041669999997  \n",
      " case_closed          | true                 \n",
      " service_request_type | Removal Of Obstru... \n",
      " SLA_days             | 4.322222222          \n",
      " case_status          | Closed               \n",
      " source_id            | svcCRMSS             \n",
      " request_address      | 2215  GOLIAD RD, ... \n",
      " council_district     | 3                    \n",
      " case_age             | null                 \n",
      " days_to_closed       | null                 \n",
      " case_lifetime        | null                 \n",
      " department           | Trans & Cap Impro... \n",
      " dept_subject_to_SLA  | true                 \n",
      "only showing top 2 rows\n",
      "\n"
     ]
    }
   ],
   "source": [
    "df1 = (\n",
    "    df1\n",
    "    # left join on dept_division\n",
    "    .join(df2, \"dept_division\", \"left\")\n",
    "    # drop all the columns except for standardized name, as it has much fewer unique values\n",
    "    .drop(df2.dept_division)\n",
    "    .drop(df2.dept_name)\n",
    "    .drop(df1.dept_division)\n",
    "    .withColumnRenamed(\"standardized_dept_name\", \"department\")\n",
    "    # convert to a boolean\n",
    "    .withColumn(\"dept_subject_to_SLA\", col(\"dept_subject_to_SLA\") == \"YES\")\n",
    ")\n",
    "\n",
    "df1.show(2, vertical=True)"
   ]
  },
  {
   "cell_type": "code",
   "execution_count": 34,
   "id": "8045dd39-5fb1-46d7-8ead-9b7834925436",
   "metadata": {},
   "outputs": [
    {
     "name": "stdout",
     "output_type": "stream",
     "text": [
      "+---------+--------------------+\n",
      "|source_id|     source_username|\n",
      "+---------+--------------------+\n",
      "|   100137|    Merlene Blodgett|\n",
      "|   103582|         Carmen Cura|\n",
      "|   106463|     Richard Sanchez|\n",
      "|   119403|      Betty De Hoyos|\n",
      "|   119555|      Socorro Quiara|\n",
      "|   119868| Michelle San Miguel|\n",
      "|   120752|      Eva T. Kleiber|\n",
      "|   124405|           Lori Lara|\n",
      "|   132408|       Leonard Silva|\n",
      "|   135723|        Amy Cardenas|\n",
      "|   136202|    Michelle Urrutia|\n",
      "|   136979|      Leticia Garcia|\n",
      "|   137943|    Pamela K. Baccus|\n",
      "|   138605|        Marisa Ozuna|\n",
      "|   138650|      Kimberly Green|\n",
      "|   138650|Kimberly Green-Woods|\n",
      "|   138793| Guadalupe Rodriguez|\n",
      "|   138810|       Tawona Martin|\n",
      "|   139342|     Jessica Mendoza|\n",
      "|   139344|        Isis Mendoza|\n",
      "+---------+--------------------+\n",
      "only showing top 20 rows\n",
      "\n"
     ]
    }
   ],
   "source": [
    "df.show()"
   ]
  },
  {
   "cell_type": "code",
   "execution_count": 35,
   "id": "a99dad37-6359-4538-b5de-52946b7524de",
   "metadata": {},
   "outputs": [
    {
     "name": "stdout",
     "output_type": "stream",
     "text": [
      "+---------+-----------------+\n",
      "|source_id|  source_username|\n",
      "+---------+-----------------+\n",
      "|  yh24110| Yojani Hernandez|\n",
      "|  yc16753|    Yvonne Casias|\n",
      "|  vk26526|    Vincent Kosub|\n",
      "|  vb22265| Vanessa Burciaga|\n",
      "|  ts15690|  Thelma Martinez|\n",
      "|  sw26367|Samantha Wickwire|\n",
      "| svcCRMSS|         svcCRMSS|\n",
      "| svcCRMLS|         svcCRMLS|\n",
      "| svcCFlag|         CityFlag|\n",
      "|  sv24848|  Salvador Valdez|\n",
      "|  ss26317|     Sakib Shaikh|\n",
      "|  ss21394|  Shirley Sanchez|\n",
      "|  ss09159|   Sylvia Sanchez|\n",
      "|  sp26368|  Steven Peterson|\n",
      "|  sg26196|   Samantha Garza|\n",
      "|  sg22264|  Steven Martinez|\n",
      "|  ru26699|      Raul Ubides|\n",
      "|  rs16746|Ronald S. Sorrell|\n",
      "|  rb05270|       Rene Bomar|\n",
      "|  ps01944|   Paula Stallcup|\n",
      "+---------+-----------------+\n",
      "only showing top 20 rows\n",
      "\n"
     ]
    }
   ],
   "source": [
    "df.sort(col('source_id').desc()).show()"
   ]
  },
  {
   "cell_type": "code",
   "execution_count": 36,
   "id": "ab1f77b1-448b-4e5e-b775-20f0f57384d9",
   "metadata": {},
   "outputs": [
    {
     "name": "stdout",
     "output_type": "stream",
     "text": [
      "-RECORD 0------------------------------------\n",
      " source_id            | af26445              \n",
      " case_id              | 1014220226           \n",
      " case_opened_date     | 2/5/18 15:07         \n",
      " case_closed_date     | 2/5/18 17:59         \n",
      " case_due_date        | 6/13/18 15:07        \n",
      " case_late            | false                \n",
      " num_days_late        | -127.88046299999999  \n",
      " case_closed          | true                 \n",
      " service_request_type | Base/Pavement Repair \n",
      " SLA_days             | 128.0                \n",
      " case_status          | Closed               \n",
      " request_address      | BAYWATER DR and L... \n",
      " council_district     | 7                    \n",
      " case_age             | null                 \n",
      " days_to_closed       | null                 \n",
      " case_lifetime        | null                 \n",
      " department           | Trans & Cap Impro... \n",
      " dept_subject_to_SLA  | true                 \n",
      " source_username      | Alex Franklin        \n",
      "-RECORD 1------------------------------------\n",
      " source_id            | af26445              \n",
      " case_id              | 1014218339           \n",
      " case_opened_date     | 2/5/18 9:17          \n",
      " case_closed_date     | 2/7/18 15:57         \n",
      " case_due_date        | 2/19/18 9:17         \n",
      " case_late            | false                \n",
      " num_days_late        | -11.72241898         \n",
      " case_closed          | true                 \n",
      " service_request_type | Herbicide - Grass... \n",
      " SLA_days             | 14.0                 \n",
      " case_status          | Closed               \n",
      " request_address      | KYLE SEALE PY and... \n",
      " council_district     | 8                    \n",
      " case_age             | null                 \n",
      " days_to_closed       | null                 \n",
      " case_lifetime        | null                 \n",
      " department           | Trans & Cap Impro... \n",
      " dept_subject_to_SLA  | true                 \n",
      " source_username      | Alex Franklin        \n",
      "-RECORD 2------------------------------------\n",
      " source_id            | af26445              \n",
      " case_id              | 1014219925           \n",
      " case_opened_date     | 2/5/18 14:16         \n",
      " case_closed_date     | 2/7/18 12:16         \n",
      " case_due_date        | 5/1/18 14:16         \n",
      " case_late            | false                \n",
      " num_days_late        | -83.08341435         \n",
      " case_closed          | true                 \n",
      " service_request_type | Signal Timing Mod... \n",
      " SLA_days             | 85.0                 \n",
      " case_status          | Closed               \n",
      " request_address      | EWING HALSELL and... \n",
      " council_district     | 8                    \n",
      " case_age             | null                 \n",
      " days_to_closed       | null                 \n",
      " case_lifetime        | null                 \n",
      " department           | Trans & Cap Impro... \n",
      " dept_subject_to_SLA  | true                 \n",
      " source_username      | Alex Franklin        \n",
      "-RECORD 3------------------------------------\n",
      " source_id            | af26445              \n",
      " case_id              | 1014218299           \n",
      " case_opened_date     | 2/5/18 9:07          \n",
      " case_closed_date     | 3/19/18 16:22        \n",
      " case_due_date        | 3/19/18 9:07         \n",
      " case_late            | true                 \n",
      " num_days_late        | 0.301863426          \n",
      " case_closed          | true                 \n",
      " service_request_type | Speed Limit Sign     \n",
      " SLA_days             | 42.0                 \n",
      " case_status          | Closed               \n",
      " request_address      | KYLE SEALE PY and... \n",
      " council_district     | 8                    \n",
      " case_age             | null                 \n",
      " days_to_closed       | null                 \n",
      " case_lifetime        | null                 \n",
      " department           | Trans & Cap Impro... \n",
      " dept_subject_to_SLA  | true                 \n",
      " source_username      | Alex Franklin        \n",
      "-RECORD 4------------------------------------\n",
      " source_id            | af26445              \n",
      " case_id              | 1014220627           \n",
      " case_opened_date     | 2/5/18 16:17         \n",
      " case_closed_date     | 2/6/18 10:03         \n",
      " case_due_date        | 4/9/18 16:17         \n",
      " case_late            | false                \n",
      " num_days_late        | -62.25969907         \n",
      " case_closed          | true                 \n",
      " service_request_type | Vacant Lot/Overgr... \n",
      " SLA_days             | 63.0                 \n",
      " case_status          | Closed               \n",
      " request_address      | 5727  FARINON DR,... \n",
      " council_district     | 8                    \n",
      " case_age             | null                 \n",
      " days_to_closed       | null                 \n",
      " case_lifetime        | null                 \n",
      " department           | DSD/Code Enforcement \n",
      " dept_subject_to_SLA  | true                 \n",
      " source_username      | Alex Franklin        \n",
      "only showing top 5 rows\n",
      "\n"
     ]
    }
   ],
   "source": [
    "(\n",
    "    df1.join(df, \"source_id\", \"left\")\n",
    "    .sort(col(\"source_username\"))\n",
    "    .show(5, vertical=True)\n",
    ")"
   ]
  },
  {
   "cell_type": "markdown",
   "id": "f041bf53-0b7d-409a-abc5-8630ec273936",
   "metadata": {},
   "source": [
    "### 8. Are there any cases that do not have a request source?"
   ]
  },
  {
   "cell_type": "code",
   "execution_count": 37,
   "id": "83139985-88bc-4853-8d33-da0c7759edf1",
   "metadata": {},
   "outputs": [
    {
     "name": "stdout",
     "output_type": "stream",
     "text": [
      "+------------+\n",
      "|sum(is_null)|\n",
      "+------------+\n",
      "|           0|\n",
      "+------------+\n",
      "\n"
     ]
    }
   ],
   "source": [
    "(\n",
    "    df1.select(df1.source_id.isNull().cast('int').alias('is_null'))\n",
    "    .agg(sum('is_null'))\n",
    "    .show()\n",
    ")"
   ]
  },
  {
   "cell_type": "code",
   "execution_count": 38,
   "id": "37ad4a8f-682a-4522-87a6-4e0bf1813d40",
   "metadata": {},
   "outputs": [
    {
     "name": "stdout",
     "output_type": "stream",
     "text": [
      "(0 rows)\n",
      "\n"
     ]
    }
   ],
   "source": [
    "df1.filter(col('source_id').isNull()).show(vertical=True)"
   ]
  },
  {
   "cell_type": "markdown",
   "id": "3d360f62-72fd-469a-a255-81eecb4da1e0",
   "metadata": {},
   "source": [
    "### 9. What are the top 10 service request types in terms of number of requests?"
   ]
  },
  {
   "cell_type": "code",
   "execution_count": 39,
   "id": "b62e36a3-02d8-4676-95b6-f0746a8b53ce",
   "metadata": {},
   "outputs": [
    {
     "name": "stdout",
     "output_type": "stream",
     "text": [
      "+--------------------------------+-----+\n",
      "|service_request_type            |count|\n",
      "+--------------------------------+-----+\n",
      "|No Pickup                       |86855|\n",
      "|Overgrown Yard/Trash            |65895|\n",
      "|Bandit Signs                    |32910|\n",
      "|Damaged Cart                    |30338|\n",
      "|Front Or Side Yard Parking      |28794|\n",
      "|Stray Animal                    |26760|\n",
      "|Aggressive Animal(Non-Critical) |24882|\n",
      "|Cart Exchange Request           |22024|\n",
      "|Junk Vehicle On Private Property|21473|\n",
      "|Pot Hole Repair                 |20616|\n",
      "+--------------------------------+-----+\n",
      "only showing top 10 rows\n",
      "\n"
     ]
    }
   ],
   "source": [
    "(\n",
    "    df1.groupby('service_request_type')\n",
    "    .count()\n",
    "    .sort(col('count').desc())\n",
    "    .show(10, truncate=False)\n",
    ")"
   ]
  },
  {
   "cell_type": "markdown",
   "id": "8614c6ea-0177-4500-ba3a-7432cf4873e9",
   "metadata": {},
   "source": [
    "### 10.What are the top 10 service request types in terms of average days late?\n",
    "#### - just the late cases\n",
    "#### - for the late cases:\n",
    "####   - what is the average number of days late by request type?"
   ]
  },
  {
   "cell_type": "code",
   "execution_count": 40,
   "id": "af40cfed-b5d1-4195-aab0-598112378211",
   "metadata": {},
   "outputs": [
    {
     "name": "stdout",
     "output_type": "stream",
     "text": [
      "+--------------------------------------+------------------+-------+\n",
      "|service_request_type                  |n_days_late       |n_cases|\n",
      "+--------------------------------------+------------------+-------+\n",
      "|Zoning: Recycle Yard                  |210.89201994318182|132    |\n",
      "|Zoning: Junk Yards                    |200.20517608494276|262    |\n",
      "|Structure/Housing Maintenance         |190.20707698509807|51     |\n",
      "|Donation Container Enforcement        |171.09115313942615|122    |\n",
      "|Storage of Used Mattress              |163.96812829714287|7      |\n",
      "|Labeling for Used Mattress            |162.43032902285717|7      |\n",
      "|Record Keeping of Used Mattresses     |153.99724039428568|7      |\n",
      "|Signage Requied for Sale of Used Mattr|151.63868055333333|12     |\n",
      "|Traffic Signal Graffiti               |137.64583330000002|2      |\n",
      "|License Requied Used Mattress Sales   |128.79828704142858|7      |\n",
      "+--------------------------------------+------------------+-------+\n",
      "only showing top 10 rows\n",
      "\n"
     ]
    }
   ],
   "source": [
    "(\n",
    "    df1.where('case_late') # just the rows where case_late == true\n",
    "    .groupBy('service_request_type')\n",
    "    .agg(mean('num_days_late').alias('n_days_late'), count('*').alias('n_cases'))\n",
    "    .sort(desc('n_days_late'))\n",
    "    .show(10, truncate=False)\n",
    ")"
   ]
  },
  {
   "cell_type": "markdown",
   "id": "67359b49-7aca-4659-a555-90b85af92968",
   "metadata": {},
   "source": [
    "### 11. Does number of days late depend on department?"
   ]
  },
  {
   "cell_type": "code",
   "execution_count": 41,
   "id": "ba35c4ff-2cfc-4be2-824e-0e4a86417683",
   "metadata": {},
   "outputs": [
    {
     "ename": "AnalysisException",
     "evalue": "cannot resolve 'dept_name' given input columns: [SLA_days, case_age, case_closed, case_closed_date, case_due_date, case_id, case_late, case_lifetime, case_opened_date, case_status, council_district, days_to_closed, department, dept_subject_to_SLA, num_days_late, request_address, service_request_type, source_id];\n'Aggregate ['dept_name], ['dept_name, avg(num_days_late#41) AS days_late#1158, count(num_days_late#41) AS n_cases_late#1160L]\n+- Filter case_late#265: boolean\n   +- Project [case_id#36, case_opened_date#37, case_closed_date#38, case_due_date#199, case_late#265, num_days_late#41, case_closed#250, service_request_type#44, SLA_days#45, case_status#46, source_id#47, request_address#48, council_district#293, case_age#328, days_to_closed#344, case_lifetime#361, department#674, (dept_subject_to_SLA#83 = YES) AS dept_subject_to_SLA#693]\n      +- Project [case_id#36, case_opened_date#37, case_closed_date#38, case_due_date#199, case_late#265, num_days_late#41, case_closed#250, service_request_type#44, SLA_days#45, case_status#46, source_id#47, request_address#48, council_district#293, case_age#328, days_to_closed#344, case_lifetime#361, standardized_dept_name#82 AS department#674, dept_subject_to_SLA#83]\n         +- Project [case_id#36, case_opened_date#37, case_closed_date#38, case_due_date#199, case_late#265, num_days_late#41, case_closed#250, service_request_type#44, SLA_days#45, case_status#46, source_id#47, request_address#48, council_district#293, case_age#328, days_to_closed#344, case_lifetime#361, standardized_dept_name#82, dept_subject_to_SLA#83]\n            +- Project [dept_division#43, case_id#36, case_opened_date#37, case_closed_date#38, case_due_date#199, case_late#265, num_days_late#41, case_closed#250, service_request_type#44, SLA_days#45, case_status#46, source_id#47, request_address#48, council_district#293, case_age#328, days_to_closed#344, case_lifetime#361, standardized_dept_name#82, dept_subject_to_SLA#83]\n               +- Project [dept_division#43, case_id#36, case_opened_date#37, case_closed_date#38, case_due_date#199, case_late#265, num_days_late#41, case_closed#250, service_request_type#44, SLA_days#45, case_status#46, source_id#47, request_address#48, council_district#293, case_age#328, days_to_closed#344, case_lifetime#361, dept_name#81, standardized_dept_name#82, dept_subject_to_SLA#83]\n                  +- Project [dept_division#43, case_id#36, case_opened_date#37, case_closed_date#38, case_due_date#199, case_late#265, num_days_late#41, case_closed#250, service_request_type#44, SLA_days#45, case_status#46, source_id#47, request_address#48, council_district#293, case_age#328, days_to_closed#344, case_lifetime#361, dept_name#81, standardized_dept_name#82, dept_subject_to_SLA#83]\n                     +- Join LeftOuter, (dept_division#43 = dept_division#80)\n                        :- Project [case_id#36, case_opened_date#37, case_closed_date#38, case_due_date#199, case_late#265, num_days_late#41, case_closed#250, dept_division#43, service_request_type#44, SLA_days#45, case_status#46, source_id#47, request_address#48, council_district#293, case_age#328, days_to_closed#344, CASE WHEN NOT case_closed#250 THEN case_age#328 ELSE days_to_closed#344 END AS case_lifetime#361]\n                        :  +- Project [case_id#36, case_opened_date#37, case_closed_date#38, case_due_date#199, case_late#265, num_days_late#41, case_closed#250, dept_division#43, service_request_type#44, SLA_days#45, case_status#46, source_id#47, request_address#48, council_district#293, case_age#328, datediff(cast(case_closed_date#38 as date), cast(case_opened_date#37 as date)) AS days_to_closed#344]\n                        :     +- Project [case_id#36, case_opened_date#37, case_closed_date#38, case_due_date#199, case_late#265, num_days_late#41, case_closed#250, dept_division#43, service_request_type#44, SLA_days#45, case_status#46, source_id#47, request_address#48, council_district#293, datediff(cast(current_timestamp() as date), cast(case_opened_date#37 as date)) AS case_age#328]\n                        :        +- Project [case_id#36, case_opened_date#37, case_closed_date#38, case_due_date#199, case_late#265, num_days_late#41, case_closed#250, dept_division#43, service_request_type#44, SLA_days#45, case_status#46, source_id#47, request_address#48, cast(council_district#49 as string) AS council_district#293]\n                        :           +- Project [case_id#36, case_opened_date#37, case_closed_date#38, case_due_date#199, (case_late#40 = YES) AS case_late#265, num_days_late#41, case_closed#250, dept_division#43, service_request_type#44, SLA_days#45, case_status#46, source_id#47, request_address#48, council_district#49]\n                        :              +- Project [case_id#36, case_opened_date#37, case_closed_date#38, case_due_date#199, case_late#40, num_days_late#41, (case_closed#42 = YES) AS case_closed#250, dept_division#43, service_request_type#44, SLA_days#45, case_status#46, source_id#47, request_address#48, council_district#49]\n                        :                 +- Project [case_id#36, case_opened_date#37, case_closed_date#38, SLA_due_date#39 AS case_due_date#199, case_late#40, num_days_late#41, case_closed#42, dept_division#43, service_request_type#44, SLA_days#45, case_status#46, source_id#47, request_address#48, council_district#49]\n                        :                    +- Relation [case_id#36,case_opened_date#37,case_closed_date#38,SLA_due_date#39,case_late#40,num_days_late#41,case_closed#42,dept_division#43,service_request_type#44,SLA_days#45,case_status#46,source_id#47,request_address#48,council_district#49] csv\n                        +- Relation [dept_division#80,dept_name#81,standardized_dept_name#82,dept_subject_to_SLA#83] csv\n",
     "output_type": "error",
     "traceback": [
      "\u001b[0;31m---------------------------------------------------------------------------\u001b[0m",
      "\u001b[0;31mAnalysisException\u001b[0m                         Traceback (most recent call last)",
      "\u001b[0;32m<ipython-input-41-0954ab0ea150>\u001b[0m in \u001b[0;36m<module>\u001b[0;34m\u001b[0m\n\u001b[1;32m      1\u001b[0m (\n\u001b[0;32m----> 2\u001b[0;31m     \u001b[0mdf1\u001b[0m\u001b[0;34m.\u001b[0m\u001b[0mfilter\u001b[0m\u001b[0;34m(\u001b[0m\u001b[0;34m'case_late'\u001b[0m\u001b[0;34m)\u001b[0m\u001b[0;34m\u001b[0m\u001b[0;34m\u001b[0m\u001b[0m\n\u001b[0m\u001b[1;32m      3\u001b[0m     \u001b[0;34m.\u001b[0m\u001b[0mgroupby\u001b[0m\u001b[0;34m(\u001b[0m\u001b[0;34m'dept_name'\u001b[0m\u001b[0;34m)\u001b[0m\u001b[0;34m\u001b[0m\u001b[0;34m\u001b[0m\u001b[0m\n\u001b[1;32m      4\u001b[0m     \u001b[0;34m.\u001b[0m\u001b[0magg\u001b[0m\u001b[0;34m(\u001b[0m\u001b[0mmean\u001b[0m\u001b[0;34m(\u001b[0m\u001b[0;34m'num_days_late'\u001b[0m\u001b[0;34m)\u001b[0m\u001b[0;34m.\u001b[0m\u001b[0malias\u001b[0m\u001b[0;34m(\u001b[0m\u001b[0;34m'days_late'\u001b[0m\u001b[0;34m)\u001b[0m\u001b[0;34m,\u001b[0m \u001b[0mcount\u001b[0m\u001b[0;34m(\u001b[0m\u001b[0;34m'num_days_late'\u001b[0m\u001b[0;34m)\u001b[0m\u001b[0;34m.\u001b[0m\u001b[0malias\u001b[0m\u001b[0;34m(\u001b[0m\u001b[0;34m'n_cases_late'\u001b[0m\u001b[0;34m)\u001b[0m\u001b[0;34m)\u001b[0m\u001b[0;34m\u001b[0m\u001b[0;34m\u001b[0m\u001b[0m\n\u001b[1;32m      5\u001b[0m     \u001b[0;34m.\u001b[0m\u001b[0msort\u001b[0m\u001b[0;34m(\u001b[0m\u001b[0;34m'days_late'\u001b[0m\u001b[0;34m)\u001b[0m\u001b[0;34m\u001b[0m\u001b[0;34m\u001b[0m\u001b[0m\n",
      "\u001b[0;32m/opt/homebrew/anaconda3/lib/python3.8/site-packages/pyspark/sql/group.py\u001b[0m in \u001b[0;36magg\u001b[0;34m(self, *exprs)\u001b[0m\n\u001b[1;32m    116\u001b[0m             \u001b[0;31m# Columns\u001b[0m\u001b[0;34m\u001b[0m\u001b[0;34m\u001b[0m\u001b[0;34m\u001b[0m\u001b[0m\n\u001b[1;32m    117\u001b[0m             \u001b[0;32massert\u001b[0m \u001b[0mall\u001b[0m\u001b[0;34m(\u001b[0m\u001b[0misinstance\u001b[0m\u001b[0;34m(\u001b[0m\u001b[0mc\u001b[0m\u001b[0;34m,\u001b[0m \u001b[0mColumn\u001b[0m\u001b[0;34m)\u001b[0m \u001b[0;32mfor\u001b[0m \u001b[0mc\u001b[0m \u001b[0;32min\u001b[0m \u001b[0mexprs\u001b[0m\u001b[0;34m)\u001b[0m\u001b[0;34m,\u001b[0m \u001b[0;34m\"all exprs should be Column\"\u001b[0m\u001b[0;34m\u001b[0m\u001b[0;34m\u001b[0m\u001b[0m\n\u001b[0;32m--> 118\u001b[0;31m             jdf = self._jgd.agg(exprs[0]._jc,\n\u001b[0m\u001b[1;32m    119\u001b[0m                                 _to_seq(self.sql_ctx._sc, [c._jc for c in exprs[1:]]))\n\u001b[1;32m    120\u001b[0m         \u001b[0;32mreturn\u001b[0m \u001b[0mDataFrame\u001b[0m\u001b[0;34m(\u001b[0m\u001b[0mjdf\u001b[0m\u001b[0;34m,\u001b[0m \u001b[0mself\u001b[0m\u001b[0;34m.\u001b[0m\u001b[0msql_ctx\u001b[0m\u001b[0;34m)\u001b[0m\u001b[0;34m\u001b[0m\u001b[0;34m\u001b[0m\u001b[0m\n",
      "\u001b[0;32m/opt/homebrew/anaconda3/lib/python3.8/site-packages/py4j/java_gateway.py\u001b[0m in \u001b[0;36m__call__\u001b[0;34m(self, *args)\u001b[0m\n\u001b[1;32m   1307\u001b[0m \u001b[0;34m\u001b[0m\u001b[0m\n\u001b[1;32m   1308\u001b[0m         \u001b[0manswer\u001b[0m \u001b[0;34m=\u001b[0m \u001b[0mself\u001b[0m\u001b[0;34m.\u001b[0m\u001b[0mgateway_client\u001b[0m\u001b[0;34m.\u001b[0m\u001b[0msend_command\u001b[0m\u001b[0;34m(\u001b[0m\u001b[0mcommand\u001b[0m\u001b[0;34m)\u001b[0m\u001b[0;34m\u001b[0m\u001b[0;34m\u001b[0m\u001b[0m\n\u001b[0;32m-> 1309\u001b[0;31m         return_value = get_return_value(\n\u001b[0m\u001b[1;32m   1310\u001b[0m             answer, self.gateway_client, self.target_id, self.name)\n\u001b[1;32m   1311\u001b[0m \u001b[0;34m\u001b[0m\u001b[0m\n",
      "\u001b[0;32m/opt/homebrew/anaconda3/lib/python3.8/site-packages/pyspark/sql/utils.py\u001b[0m in \u001b[0;36mdeco\u001b[0;34m(*a, **kw)\u001b[0m\n\u001b[1;32m    115\u001b[0m                 \u001b[0;31m# Hide where the exception came from that shows a non-Pythonic\u001b[0m\u001b[0;34m\u001b[0m\u001b[0;34m\u001b[0m\u001b[0;34m\u001b[0m\u001b[0m\n\u001b[1;32m    116\u001b[0m                 \u001b[0;31m# JVM exception message.\u001b[0m\u001b[0;34m\u001b[0m\u001b[0;34m\u001b[0m\u001b[0;34m\u001b[0m\u001b[0m\n\u001b[0;32m--> 117\u001b[0;31m                 \u001b[0;32mraise\u001b[0m \u001b[0mconverted\u001b[0m \u001b[0;32mfrom\u001b[0m \u001b[0;32mNone\u001b[0m\u001b[0;34m\u001b[0m\u001b[0;34m\u001b[0m\u001b[0m\n\u001b[0m\u001b[1;32m    118\u001b[0m             \u001b[0;32melse\u001b[0m\u001b[0;34m:\u001b[0m\u001b[0;34m\u001b[0m\u001b[0;34m\u001b[0m\u001b[0m\n\u001b[1;32m    119\u001b[0m                 \u001b[0;32mraise\u001b[0m\u001b[0;34m\u001b[0m\u001b[0;34m\u001b[0m\u001b[0m\n",
      "\u001b[0;31mAnalysisException\u001b[0m: cannot resolve 'dept_name' given input columns: [SLA_days, case_age, case_closed, case_closed_date, case_due_date, case_id, case_late, case_lifetime, case_opened_date, case_status, council_district, days_to_closed, department, dept_subject_to_SLA, num_days_late, request_address, service_request_type, source_id];\n'Aggregate ['dept_name], ['dept_name, avg(num_days_late#41) AS days_late#1158, count(num_days_late#41) AS n_cases_late#1160L]\n+- Filter case_late#265: boolean\n   +- Project [case_id#36, case_opened_date#37, case_closed_date#38, case_due_date#199, case_late#265, num_days_late#41, case_closed#250, service_request_type#44, SLA_days#45, case_status#46, source_id#47, request_address#48, council_district#293, case_age#328, days_to_closed#344, case_lifetime#361, department#674, (dept_subject_to_SLA#83 = YES) AS dept_subject_to_SLA#693]\n      +- Project [case_id#36, case_opened_date#37, case_closed_date#38, case_due_date#199, case_late#265, num_days_late#41, case_closed#250, service_request_type#44, SLA_days#45, case_status#46, source_id#47, request_address#48, council_district#293, case_age#328, days_to_closed#344, case_lifetime#361, standardized_dept_name#82 AS department#674, dept_subject_to_SLA#83]\n         +- Project [case_id#36, case_opened_date#37, case_closed_date#38, case_due_date#199, case_late#265, num_days_late#41, case_closed#250, service_request_type#44, SLA_days#45, case_status#46, source_id#47, request_address#48, council_district#293, case_age#328, days_to_closed#344, case_lifetime#361, standardized_dept_name#82, dept_subject_to_SLA#83]\n            +- Project [dept_division#43, case_id#36, case_opened_date#37, case_closed_date#38, case_due_date#199, case_late#265, num_days_late#41, case_closed#250, service_request_type#44, SLA_days#45, case_status#46, source_id#47, request_address#48, council_district#293, case_age#328, days_to_closed#344, case_lifetime#361, standardized_dept_name#82, dept_subject_to_SLA#83]\n               +- Project [dept_division#43, case_id#36, case_opened_date#37, case_closed_date#38, case_due_date#199, case_late#265, num_days_late#41, case_closed#250, service_request_type#44, SLA_days#45, case_status#46, source_id#47, request_address#48, council_district#293, case_age#328, days_to_closed#344, case_lifetime#361, dept_name#81, standardized_dept_name#82, dept_subject_to_SLA#83]\n                  +- Project [dept_division#43, case_id#36, case_opened_date#37, case_closed_date#38, case_due_date#199, case_late#265, num_days_late#41, case_closed#250, service_request_type#44, SLA_days#45, case_status#46, source_id#47, request_address#48, council_district#293, case_age#328, days_to_closed#344, case_lifetime#361, dept_name#81, standardized_dept_name#82, dept_subject_to_SLA#83]\n                     +- Join LeftOuter, (dept_division#43 = dept_division#80)\n                        :- Project [case_id#36, case_opened_date#37, case_closed_date#38, case_due_date#199, case_late#265, num_days_late#41, case_closed#250, dept_division#43, service_request_type#44, SLA_days#45, case_status#46, source_id#47, request_address#48, council_district#293, case_age#328, days_to_closed#344, CASE WHEN NOT case_closed#250 THEN case_age#328 ELSE days_to_closed#344 END AS case_lifetime#361]\n                        :  +- Project [case_id#36, case_opened_date#37, case_closed_date#38, case_due_date#199, case_late#265, num_days_late#41, case_closed#250, dept_division#43, service_request_type#44, SLA_days#45, case_status#46, source_id#47, request_address#48, council_district#293, case_age#328, datediff(cast(case_closed_date#38 as date), cast(case_opened_date#37 as date)) AS days_to_closed#344]\n                        :     +- Project [case_id#36, case_opened_date#37, case_closed_date#38, case_due_date#199, case_late#265, num_days_late#41, case_closed#250, dept_division#43, service_request_type#44, SLA_days#45, case_status#46, source_id#47, request_address#48, council_district#293, datediff(cast(current_timestamp() as date), cast(case_opened_date#37 as date)) AS case_age#328]\n                        :        +- Project [case_id#36, case_opened_date#37, case_closed_date#38, case_due_date#199, case_late#265, num_days_late#41, case_closed#250, dept_division#43, service_request_type#44, SLA_days#45, case_status#46, source_id#47, request_address#48, cast(council_district#49 as string) AS council_district#293]\n                        :           +- Project [case_id#36, case_opened_date#37, case_closed_date#38, case_due_date#199, (case_late#40 = YES) AS case_late#265, num_days_late#41, case_closed#250, dept_division#43, service_request_type#44, SLA_days#45, case_status#46, source_id#47, request_address#48, council_district#49]\n                        :              +- Project [case_id#36, case_opened_date#37, case_closed_date#38, case_due_date#199, case_late#40, num_days_late#41, (case_closed#42 = YES) AS case_closed#250, dept_division#43, service_request_type#44, SLA_days#45, case_status#46, source_id#47, request_address#48, council_district#49]\n                        :                 +- Project [case_id#36, case_opened_date#37, case_closed_date#38, SLA_due_date#39 AS case_due_date#199, case_late#40, num_days_late#41, case_closed#42, dept_division#43, service_request_type#44, SLA_days#45, case_status#46, source_id#47, request_address#48, council_district#49]\n                        :                    +- Relation [case_id#36,case_opened_date#37,case_closed_date#38,SLA_due_date#39,case_late#40,num_days_late#41,case_closed#42,dept_division#43,service_request_type#44,SLA_days#45,case_status#46,source_id#47,request_address#48,council_district#49] csv\n                        +- Relation [dept_division#80,dept_name#81,standardized_dept_name#82,dept_subject_to_SLA#83] csv\n"
     ]
    }
   ],
   "source": [
    "(\n",
    "    df1.filter('case_late')\n",
    "    .groupby('dept_name')\n",
    "    .agg(mean('num_days_late').alias('days_late'), count('num_days_late').alias('n_cases_late'))\n",
    "    .sort('days_late')\n",
    "    .withColumn('days_late', round(col('days_late'), 1))\n",
    "    .show(truncate=False)\n",
    ")"
   ]
  },
  {
   "cell_type": "code",
   "execution_count": 42,
   "id": "4b045346-da04-4ef3-a8ed-82065fed3587",
   "metadata": {},
   "outputs": [
    {
     "ename": "AnalysisException",
     "evalue": "cannot resolve 'dept_name' given input columns: [source_id, source_username];\n'Aggregate ['dept_name], ['dept_name, count(1) AS count#1164L]\n+- Relation [source_id#16,source_username#17] csv\n",
     "output_type": "error",
     "traceback": [
      "\u001b[0;31m---------------------------------------------------------------------------\u001b[0m",
      "\u001b[0;31mAnalysisException\u001b[0m                         Traceback (most recent call last)",
      "\u001b[0;32m<ipython-input-42-2becc05fddd7>\u001b[0m in \u001b[0;36m<module>\u001b[0;34m\u001b[0m\n\u001b[0;32m----> 1\u001b[0;31m \u001b[0mdf\u001b[0m\u001b[0;34m.\u001b[0m\u001b[0mgroupby\u001b[0m\u001b[0;34m(\u001b[0m\u001b[0;34m'dept_name'\u001b[0m\u001b[0;34m)\u001b[0m\u001b[0;34m.\u001b[0m\u001b[0mcount\u001b[0m\u001b[0;34m(\u001b[0m\u001b[0;34m)\u001b[0m\u001b[0;34m.\u001b[0m\u001b[0mshow\u001b[0m\u001b[0;34m(\u001b[0m\u001b[0mtruncate\u001b[0m\u001b[0;34m=\u001b[0m\u001b[0;32mFalse\u001b[0m\u001b[0;34m)\u001b[0m\u001b[0;34m\u001b[0m\u001b[0;34m\u001b[0m\u001b[0m\n\u001b[0m",
      "\u001b[0;32m/opt/homebrew/anaconda3/lib/python3.8/site-packages/pyspark/sql/group.py\u001b[0m in \u001b[0;36m_api\u001b[0;34m(self)\u001b[0m\n\u001b[1;32m     29\u001b[0m     \u001b[0;32mdef\u001b[0m \u001b[0m_api\u001b[0m\u001b[0;34m(\u001b[0m\u001b[0mself\u001b[0m\u001b[0;34m)\u001b[0m\u001b[0;34m:\u001b[0m\u001b[0;34m\u001b[0m\u001b[0;34m\u001b[0m\u001b[0m\n\u001b[1;32m     30\u001b[0m         \u001b[0mname\u001b[0m \u001b[0;34m=\u001b[0m \u001b[0mf\u001b[0m\u001b[0;34m.\u001b[0m\u001b[0m__name__\u001b[0m\u001b[0;34m\u001b[0m\u001b[0;34m\u001b[0m\u001b[0m\n\u001b[0;32m---> 31\u001b[0;31m         \u001b[0mjdf\u001b[0m \u001b[0;34m=\u001b[0m \u001b[0mgetattr\u001b[0m\u001b[0;34m(\u001b[0m\u001b[0mself\u001b[0m\u001b[0;34m.\u001b[0m\u001b[0m_jgd\u001b[0m\u001b[0;34m,\u001b[0m \u001b[0mname\u001b[0m\u001b[0;34m)\u001b[0m\u001b[0;34m(\u001b[0m\u001b[0;34m)\u001b[0m\u001b[0;34m\u001b[0m\u001b[0;34m\u001b[0m\u001b[0m\n\u001b[0m\u001b[1;32m     32\u001b[0m         \u001b[0;32mreturn\u001b[0m \u001b[0mDataFrame\u001b[0m\u001b[0;34m(\u001b[0m\u001b[0mjdf\u001b[0m\u001b[0;34m,\u001b[0m \u001b[0mself\u001b[0m\u001b[0;34m.\u001b[0m\u001b[0msql_ctx\u001b[0m\u001b[0;34m)\u001b[0m\u001b[0;34m\u001b[0m\u001b[0;34m\u001b[0m\u001b[0m\n\u001b[1;32m     33\u001b[0m     \u001b[0m_api\u001b[0m\u001b[0;34m.\u001b[0m\u001b[0m__name__\u001b[0m \u001b[0;34m=\u001b[0m \u001b[0mf\u001b[0m\u001b[0;34m.\u001b[0m\u001b[0m__name__\u001b[0m\u001b[0;34m\u001b[0m\u001b[0;34m\u001b[0m\u001b[0m\n",
      "\u001b[0;32m/opt/homebrew/anaconda3/lib/python3.8/site-packages/py4j/java_gateway.py\u001b[0m in \u001b[0;36m__call__\u001b[0;34m(self, *args)\u001b[0m\n\u001b[1;32m   1307\u001b[0m \u001b[0;34m\u001b[0m\u001b[0m\n\u001b[1;32m   1308\u001b[0m         \u001b[0manswer\u001b[0m \u001b[0;34m=\u001b[0m \u001b[0mself\u001b[0m\u001b[0;34m.\u001b[0m\u001b[0mgateway_client\u001b[0m\u001b[0;34m.\u001b[0m\u001b[0msend_command\u001b[0m\u001b[0;34m(\u001b[0m\u001b[0mcommand\u001b[0m\u001b[0;34m)\u001b[0m\u001b[0;34m\u001b[0m\u001b[0;34m\u001b[0m\u001b[0m\n\u001b[0;32m-> 1309\u001b[0;31m         return_value = get_return_value(\n\u001b[0m\u001b[1;32m   1310\u001b[0m             answer, self.gateway_client, self.target_id, self.name)\n\u001b[1;32m   1311\u001b[0m \u001b[0;34m\u001b[0m\u001b[0m\n",
      "\u001b[0;32m/opt/homebrew/anaconda3/lib/python3.8/site-packages/pyspark/sql/utils.py\u001b[0m in \u001b[0;36mdeco\u001b[0;34m(*a, **kw)\u001b[0m\n\u001b[1;32m    115\u001b[0m                 \u001b[0;31m# Hide where the exception came from that shows a non-Pythonic\u001b[0m\u001b[0;34m\u001b[0m\u001b[0;34m\u001b[0m\u001b[0;34m\u001b[0m\u001b[0m\n\u001b[1;32m    116\u001b[0m                 \u001b[0;31m# JVM exception message.\u001b[0m\u001b[0;34m\u001b[0m\u001b[0;34m\u001b[0m\u001b[0;34m\u001b[0m\u001b[0m\n\u001b[0;32m--> 117\u001b[0;31m                 \u001b[0;32mraise\u001b[0m \u001b[0mconverted\u001b[0m \u001b[0;32mfrom\u001b[0m \u001b[0;32mNone\u001b[0m\u001b[0;34m\u001b[0m\u001b[0;34m\u001b[0m\u001b[0m\n\u001b[0m\u001b[1;32m    118\u001b[0m             \u001b[0;32melse\u001b[0m\u001b[0;34m:\u001b[0m\u001b[0;34m\u001b[0m\u001b[0;34m\u001b[0m\u001b[0m\n\u001b[1;32m    119\u001b[0m                 \u001b[0;32mraise\u001b[0m\u001b[0;34m\u001b[0m\u001b[0;34m\u001b[0m\u001b[0m\n",
      "\u001b[0;31mAnalysisException\u001b[0m: cannot resolve 'dept_name' given input columns: [source_id, source_username];\n'Aggregate ['dept_name], ['dept_name, count(1) AS count#1164L]\n+- Relation [source_id#16,source_username#17] csv\n"
     ]
    }
   ],
   "source": [
    "df.groupby('dept_name').count().show(truncate=False)"
   ]
  },
  {
   "cell_type": "markdown",
   "id": "1f50f188-139b-4f9e-aea7-4ae1ddfbad70",
   "metadata": {},
   "source": [
    "### 12. How do number of days late depend on department and request type?"
   ]
  },
  {
   "cell_type": "code",
   "execution_count": 43,
   "id": "bad9ecff-fc55-4685-a37f-c8bc2784f1a0",
   "metadata": {},
   "outputs": [
    {
     "ename": "AnalysisException",
     "evalue": "cannot resolve 'standardized_dept_name' given input columns: [SLA_days, case_age, case_closed, case_closed_date, case_due_date, case_id, case_late, case_lifetime, case_opened_date, case_status, council_district, days_to_closed, department, dept_subject_to_SLA, num_days_late, request_address, service_request_type, source_id];\n'Aggregate ['standardized_dept_name, service_request_type#44], ['standardized_dept_name, service_request_type#44, avg(num_days_late#41) AS days_late#1184, count(1) AS n_cases#1186L]\n+- Filter case_closed#250: boolean\n   +- Project [case_id#36, case_opened_date#37, case_closed_date#38, case_due_date#199, case_late#265, num_days_late#41, case_closed#250, service_request_type#44, SLA_days#45, case_status#46, source_id#47, request_address#48, council_district#293, case_age#328, days_to_closed#344, case_lifetime#361, department#674, (dept_subject_to_SLA#83 = YES) AS dept_subject_to_SLA#693]\n      +- Project [case_id#36, case_opened_date#37, case_closed_date#38, case_due_date#199, case_late#265, num_days_late#41, case_closed#250, service_request_type#44, SLA_days#45, case_status#46, source_id#47, request_address#48, council_district#293, case_age#328, days_to_closed#344, case_lifetime#361, standardized_dept_name#82 AS department#674, dept_subject_to_SLA#83]\n         +- Project [case_id#36, case_opened_date#37, case_closed_date#38, case_due_date#199, case_late#265, num_days_late#41, case_closed#250, service_request_type#44, SLA_days#45, case_status#46, source_id#47, request_address#48, council_district#293, case_age#328, days_to_closed#344, case_lifetime#361, standardized_dept_name#82, dept_subject_to_SLA#83]\n            +- Project [dept_division#43, case_id#36, case_opened_date#37, case_closed_date#38, case_due_date#199, case_late#265, num_days_late#41, case_closed#250, service_request_type#44, SLA_days#45, case_status#46, source_id#47, request_address#48, council_district#293, case_age#328, days_to_closed#344, case_lifetime#361, standardized_dept_name#82, dept_subject_to_SLA#83]\n               +- Project [dept_division#43, case_id#36, case_opened_date#37, case_closed_date#38, case_due_date#199, case_late#265, num_days_late#41, case_closed#250, service_request_type#44, SLA_days#45, case_status#46, source_id#47, request_address#48, council_district#293, case_age#328, days_to_closed#344, case_lifetime#361, dept_name#81, standardized_dept_name#82, dept_subject_to_SLA#83]\n                  +- Project [dept_division#43, case_id#36, case_opened_date#37, case_closed_date#38, case_due_date#199, case_late#265, num_days_late#41, case_closed#250, service_request_type#44, SLA_days#45, case_status#46, source_id#47, request_address#48, council_district#293, case_age#328, days_to_closed#344, case_lifetime#361, dept_name#81, standardized_dept_name#82, dept_subject_to_SLA#83]\n                     +- Join LeftOuter, (dept_division#43 = dept_division#80)\n                        :- Project [case_id#36, case_opened_date#37, case_closed_date#38, case_due_date#199, case_late#265, num_days_late#41, case_closed#250, dept_division#43, service_request_type#44, SLA_days#45, case_status#46, source_id#47, request_address#48, council_district#293, case_age#328, days_to_closed#344, CASE WHEN NOT case_closed#250 THEN case_age#328 ELSE days_to_closed#344 END AS case_lifetime#361]\n                        :  +- Project [case_id#36, case_opened_date#37, case_closed_date#38, case_due_date#199, case_late#265, num_days_late#41, case_closed#250, dept_division#43, service_request_type#44, SLA_days#45, case_status#46, source_id#47, request_address#48, council_district#293, case_age#328, datediff(cast(case_closed_date#38 as date), cast(case_opened_date#37 as date)) AS days_to_closed#344]\n                        :     +- Project [case_id#36, case_opened_date#37, case_closed_date#38, case_due_date#199, case_late#265, num_days_late#41, case_closed#250, dept_division#43, service_request_type#44, SLA_days#45, case_status#46, source_id#47, request_address#48, council_district#293, datediff(cast(current_timestamp() as date), cast(case_opened_date#37 as date)) AS case_age#328]\n                        :        +- Project [case_id#36, case_opened_date#37, case_closed_date#38, case_due_date#199, case_late#265, num_days_late#41, case_closed#250, dept_division#43, service_request_type#44, SLA_days#45, case_status#46, source_id#47, request_address#48, cast(council_district#49 as string) AS council_district#293]\n                        :           +- Project [case_id#36, case_opened_date#37, case_closed_date#38, case_due_date#199, (case_late#40 = YES) AS case_late#265, num_days_late#41, case_closed#250, dept_division#43, service_request_type#44, SLA_days#45, case_status#46, source_id#47, request_address#48, council_district#49]\n                        :              +- Project [case_id#36, case_opened_date#37, case_closed_date#38, case_due_date#199, case_late#40, num_days_late#41, (case_closed#42 = YES) AS case_closed#250, dept_division#43, service_request_type#44, SLA_days#45, case_status#46, source_id#47, request_address#48, council_district#49]\n                        :                 +- Project [case_id#36, case_opened_date#37, case_closed_date#38, SLA_due_date#39 AS case_due_date#199, case_late#40, num_days_late#41, case_closed#42, dept_division#43, service_request_type#44, SLA_days#45, case_status#46, source_id#47, request_address#48, council_district#49]\n                        :                    +- Relation [case_id#36,case_opened_date#37,case_closed_date#38,SLA_due_date#39,case_late#40,num_days_late#41,case_closed#42,dept_division#43,service_request_type#44,SLA_days#45,case_status#46,source_id#47,request_address#48,council_district#49] csv\n                        +- Relation [dept_division#80,dept_name#81,standardized_dept_name#82,dept_subject_to_SLA#83] csv\n",
     "output_type": "error",
     "traceback": [
      "\u001b[0;31m---------------------------------------------------------------------------\u001b[0m",
      "\u001b[0;31mAnalysisException\u001b[0m                         Traceback (most recent call last)",
      "\u001b[0;32m<ipython-input-43-bde5d4a43999>\u001b[0m in \u001b[0;36m<module>\u001b[0;34m\u001b[0m\n\u001b[1;32m      1\u001b[0m (\n\u001b[0;32m----> 2\u001b[0;31m     \u001b[0mdf1\u001b[0m\u001b[0;34m.\u001b[0m\u001b[0mfilter\u001b[0m\u001b[0;34m(\u001b[0m\u001b[0;34m\"case_closed\"\u001b[0m\u001b[0;34m)\u001b[0m\u001b[0;34m\u001b[0m\u001b[0;34m\u001b[0m\u001b[0m\n\u001b[0m\u001b[1;32m      3\u001b[0m \u001b[0;31m#     .filter(\"case_late\")\u001b[0m\u001b[0;34m\u001b[0m\u001b[0;34m\u001b[0m\u001b[0;34m\u001b[0m\u001b[0m\n\u001b[1;32m      4\u001b[0m     \u001b[0;34m.\u001b[0m\u001b[0mgroupby\u001b[0m\u001b[0;34m(\u001b[0m\u001b[0;34m\"standardized_dept_name\"\u001b[0m\u001b[0;34m,\u001b[0m \u001b[0;34m\"service_request_type\"\u001b[0m\u001b[0;34m)\u001b[0m\u001b[0;34m\u001b[0m\u001b[0;34m\u001b[0m\u001b[0m\n\u001b[1;32m      5\u001b[0m     \u001b[0;34m.\u001b[0m\u001b[0magg\u001b[0m\u001b[0;34m(\u001b[0m\u001b[0mavg\u001b[0m\u001b[0;34m(\u001b[0m\u001b[0;34m\"num_days_late\"\u001b[0m\u001b[0;34m)\u001b[0m\u001b[0;34m.\u001b[0m\u001b[0malias\u001b[0m\u001b[0;34m(\u001b[0m\u001b[0;34m\"days_late\"\u001b[0m\u001b[0;34m)\u001b[0m\u001b[0;34m,\u001b[0m \u001b[0mcount\u001b[0m\u001b[0;34m(\u001b[0m\u001b[0;34m\"*\"\u001b[0m\u001b[0;34m)\u001b[0m\u001b[0;34m.\u001b[0m\u001b[0malias\u001b[0m\u001b[0;34m(\u001b[0m\u001b[0;34m\"n_cases\"\u001b[0m\u001b[0;34m)\u001b[0m\u001b[0;34m)\u001b[0m\u001b[0;34m\u001b[0m\u001b[0;34m\u001b[0m\u001b[0m\n",
      "\u001b[0;32m/opt/homebrew/anaconda3/lib/python3.8/site-packages/pyspark/sql/group.py\u001b[0m in \u001b[0;36magg\u001b[0;34m(self, *exprs)\u001b[0m\n\u001b[1;32m    116\u001b[0m             \u001b[0;31m# Columns\u001b[0m\u001b[0;34m\u001b[0m\u001b[0;34m\u001b[0m\u001b[0;34m\u001b[0m\u001b[0m\n\u001b[1;32m    117\u001b[0m             \u001b[0;32massert\u001b[0m \u001b[0mall\u001b[0m\u001b[0;34m(\u001b[0m\u001b[0misinstance\u001b[0m\u001b[0;34m(\u001b[0m\u001b[0mc\u001b[0m\u001b[0;34m,\u001b[0m \u001b[0mColumn\u001b[0m\u001b[0;34m)\u001b[0m \u001b[0;32mfor\u001b[0m \u001b[0mc\u001b[0m \u001b[0;32min\u001b[0m \u001b[0mexprs\u001b[0m\u001b[0;34m)\u001b[0m\u001b[0;34m,\u001b[0m \u001b[0;34m\"all exprs should be Column\"\u001b[0m\u001b[0;34m\u001b[0m\u001b[0;34m\u001b[0m\u001b[0m\n\u001b[0;32m--> 118\u001b[0;31m             jdf = self._jgd.agg(exprs[0]._jc,\n\u001b[0m\u001b[1;32m    119\u001b[0m                                 _to_seq(self.sql_ctx._sc, [c._jc for c in exprs[1:]]))\n\u001b[1;32m    120\u001b[0m         \u001b[0;32mreturn\u001b[0m \u001b[0mDataFrame\u001b[0m\u001b[0;34m(\u001b[0m\u001b[0mjdf\u001b[0m\u001b[0;34m,\u001b[0m \u001b[0mself\u001b[0m\u001b[0;34m.\u001b[0m\u001b[0msql_ctx\u001b[0m\u001b[0;34m)\u001b[0m\u001b[0;34m\u001b[0m\u001b[0;34m\u001b[0m\u001b[0m\n",
      "\u001b[0;32m/opt/homebrew/anaconda3/lib/python3.8/site-packages/py4j/java_gateway.py\u001b[0m in \u001b[0;36m__call__\u001b[0;34m(self, *args)\u001b[0m\n\u001b[1;32m   1307\u001b[0m \u001b[0;34m\u001b[0m\u001b[0m\n\u001b[1;32m   1308\u001b[0m         \u001b[0manswer\u001b[0m \u001b[0;34m=\u001b[0m \u001b[0mself\u001b[0m\u001b[0;34m.\u001b[0m\u001b[0mgateway_client\u001b[0m\u001b[0;34m.\u001b[0m\u001b[0msend_command\u001b[0m\u001b[0;34m(\u001b[0m\u001b[0mcommand\u001b[0m\u001b[0;34m)\u001b[0m\u001b[0;34m\u001b[0m\u001b[0;34m\u001b[0m\u001b[0m\n\u001b[0;32m-> 1309\u001b[0;31m         return_value = get_return_value(\n\u001b[0m\u001b[1;32m   1310\u001b[0m             answer, self.gateway_client, self.target_id, self.name)\n\u001b[1;32m   1311\u001b[0m \u001b[0;34m\u001b[0m\u001b[0m\n",
      "\u001b[0;32m/opt/homebrew/anaconda3/lib/python3.8/site-packages/pyspark/sql/utils.py\u001b[0m in \u001b[0;36mdeco\u001b[0;34m(*a, **kw)\u001b[0m\n\u001b[1;32m    115\u001b[0m                 \u001b[0;31m# Hide where the exception came from that shows a non-Pythonic\u001b[0m\u001b[0;34m\u001b[0m\u001b[0;34m\u001b[0m\u001b[0;34m\u001b[0m\u001b[0m\n\u001b[1;32m    116\u001b[0m                 \u001b[0;31m# JVM exception message.\u001b[0m\u001b[0;34m\u001b[0m\u001b[0;34m\u001b[0m\u001b[0;34m\u001b[0m\u001b[0m\n\u001b[0;32m--> 117\u001b[0;31m                 \u001b[0;32mraise\u001b[0m \u001b[0mconverted\u001b[0m \u001b[0;32mfrom\u001b[0m \u001b[0;32mNone\u001b[0m\u001b[0;34m\u001b[0m\u001b[0;34m\u001b[0m\u001b[0m\n\u001b[0m\u001b[1;32m    118\u001b[0m             \u001b[0;32melse\u001b[0m\u001b[0;34m:\u001b[0m\u001b[0;34m\u001b[0m\u001b[0;34m\u001b[0m\u001b[0m\n\u001b[1;32m    119\u001b[0m                 \u001b[0;32mraise\u001b[0m\u001b[0;34m\u001b[0m\u001b[0;34m\u001b[0m\u001b[0m\n",
      "\u001b[0;31mAnalysisException\u001b[0m: cannot resolve 'standardized_dept_name' given input columns: [SLA_days, case_age, case_closed, case_closed_date, case_due_date, case_id, case_late, case_lifetime, case_opened_date, case_status, council_district, days_to_closed, department, dept_subject_to_SLA, num_days_late, request_address, service_request_type, source_id];\n'Aggregate ['standardized_dept_name, service_request_type#44], ['standardized_dept_name, service_request_type#44, avg(num_days_late#41) AS days_late#1184, count(1) AS n_cases#1186L]\n+- Filter case_closed#250: boolean\n   +- Project [case_id#36, case_opened_date#37, case_closed_date#38, case_due_date#199, case_late#265, num_days_late#41, case_closed#250, service_request_type#44, SLA_days#45, case_status#46, source_id#47, request_address#48, council_district#293, case_age#328, days_to_closed#344, case_lifetime#361, department#674, (dept_subject_to_SLA#83 = YES) AS dept_subject_to_SLA#693]\n      +- Project [case_id#36, case_opened_date#37, case_closed_date#38, case_due_date#199, case_late#265, num_days_late#41, case_closed#250, service_request_type#44, SLA_days#45, case_status#46, source_id#47, request_address#48, council_district#293, case_age#328, days_to_closed#344, case_lifetime#361, standardized_dept_name#82 AS department#674, dept_subject_to_SLA#83]\n         +- Project [case_id#36, case_opened_date#37, case_closed_date#38, case_due_date#199, case_late#265, num_days_late#41, case_closed#250, service_request_type#44, SLA_days#45, case_status#46, source_id#47, request_address#48, council_district#293, case_age#328, days_to_closed#344, case_lifetime#361, standardized_dept_name#82, dept_subject_to_SLA#83]\n            +- Project [dept_division#43, case_id#36, case_opened_date#37, case_closed_date#38, case_due_date#199, case_late#265, num_days_late#41, case_closed#250, service_request_type#44, SLA_days#45, case_status#46, source_id#47, request_address#48, council_district#293, case_age#328, days_to_closed#344, case_lifetime#361, standardized_dept_name#82, dept_subject_to_SLA#83]\n               +- Project [dept_division#43, case_id#36, case_opened_date#37, case_closed_date#38, case_due_date#199, case_late#265, num_days_late#41, case_closed#250, service_request_type#44, SLA_days#45, case_status#46, source_id#47, request_address#48, council_district#293, case_age#328, days_to_closed#344, case_lifetime#361, dept_name#81, standardized_dept_name#82, dept_subject_to_SLA#83]\n                  +- Project [dept_division#43, case_id#36, case_opened_date#37, case_closed_date#38, case_due_date#199, case_late#265, num_days_late#41, case_closed#250, service_request_type#44, SLA_days#45, case_status#46, source_id#47, request_address#48, council_district#293, case_age#328, days_to_closed#344, case_lifetime#361, dept_name#81, standardized_dept_name#82, dept_subject_to_SLA#83]\n                     +- Join LeftOuter, (dept_division#43 = dept_division#80)\n                        :- Project [case_id#36, case_opened_date#37, case_closed_date#38, case_due_date#199, case_late#265, num_days_late#41, case_closed#250, dept_division#43, service_request_type#44, SLA_days#45, case_status#46, source_id#47, request_address#48, council_district#293, case_age#328, days_to_closed#344, CASE WHEN NOT case_closed#250 THEN case_age#328 ELSE days_to_closed#344 END AS case_lifetime#361]\n                        :  +- Project [case_id#36, case_opened_date#37, case_closed_date#38, case_due_date#199, case_late#265, num_days_late#41, case_closed#250, dept_division#43, service_request_type#44, SLA_days#45, case_status#46, source_id#47, request_address#48, council_district#293, case_age#328, datediff(cast(case_closed_date#38 as date), cast(case_opened_date#37 as date)) AS days_to_closed#344]\n                        :     +- Project [case_id#36, case_opened_date#37, case_closed_date#38, case_due_date#199, case_late#265, num_days_late#41, case_closed#250, dept_division#43, service_request_type#44, SLA_days#45, case_status#46, source_id#47, request_address#48, council_district#293, datediff(cast(current_timestamp() as date), cast(case_opened_date#37 as date)) AS case_age#328]\n                        :        +- Project [case_id#36, case_opened_date#37, case_closed_date#38, case_due_date#199, case_late#265, num_days_late#41, case_closed#250, dept_division#43, service_request_type#44, SLA_days#45, case_status#46, source_id#47, request_address#48, cast(council_district#49 as string) AS council_district#293]\n                        :           +- Project [case_id#36, case_opened_date#37, case_closed_date#38, case_due_date#199, (case_late#40 = YES) AS case_late#265, num_days_late#41, case_closed#250, dept_division#43, service_request_type#44, SLA_days#45, case_status#46, source_id#47, request_address#48, council_district#49]\n                        :              +- Project [case_id#36, case_opened_date#37, case_closed_date#38, case_due_date#199, case_late#40, num_days_late#41, (case_closed#42 = YES) AS case_closed#250, dept_division#43, service_request_type#44, SLA_days#45, case_status#46, source_id#47, request_address#48, council_district#49]\n                        :                 +- Project [case_id#36, case_opened_date#37, case_closed_date#38, SLA_due_date#39 AS case_due_date#199, case_late#40, num_days_late#41, case_closed#42, dept_division#43, service_request_type#44, SLA_days#45, case_status#46, source_id#47, request_address#48, council_district#49]\n                        :                    +- Relation [case_id#36,case_opened_date#37,case_closed_date#38,SLA_due_date#39,case_late#40,num_days_late#41,case_closed#42,dept_division#43,service_request_type#44,SLA_days#45,case_status#46,source_id#47,request_address#48,council_district#49] csv\n                        +- Relation [dept_division#80,dept_name#81,standardized_dept_name#82,dept_subject_to_SLA#83] csv\n"
     ]
    }
   ],
   "source": [
    "(\n",
    "    df1.filter(\"case_closed\")\n",
    "#     .filter(\"case_late\")\n",
    "    .groupby(\"standardized_dept_name\", \"service_request_type\")\n",
    "    .agg(avg(\"num_days_late\").alias(\"days_late\"), count(\"*\").alias(\"n_cases\"))\n",
    "    .withColumn(\"days_late\", round(col(\"days_late\"), 1))\n",
    "    .where(col('days_late') > 0)\n",
    "    .sort(desc(\"days_late\"))\n",
    "    .show(40, truncate=False)\n",
    ")"
   ]
  },
  {
   "cell_type": "code",
   "execution_count": null,
   "id": "35112786-35f5-4e2c-b548-875490d26850",
   "metadata": {},
   "outputs": [],
   "source": []
  }
 ],
 "metadata": {
  "kernelspec": {
   "display_name": "Python 3.8.8 64-bit ('base': conda)",
   "language": "python",
   "name": "python388jvsc74a57bd0b64057e63add2b45b1ffc7eab9b09c8889b419c878e2fdf0d08f837f0fc857a7"
  },
  "language_info": {
   "codemirror_mode": {
    "name": "ipython",
    "version": 3
   },
   "file_extension": ".py",
   "mimetype": "text/x-python",
   "name": "python",
   "nbconvert_exporter": "python",
   "pygments_lexer": "ipython3",
   "version": "3.8.8"
  }
 },
 "nbformat": 4,
 "nbformat_minor": 5
}
